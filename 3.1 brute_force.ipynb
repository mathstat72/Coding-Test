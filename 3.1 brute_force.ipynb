{
  "nbformat": 4,
  "nbformat_minor": 0,
  "metadata": {
    "colab": {
      "provenance": [],
      "authorship_tag": "ABX9TyMA4JJl0joiA5j+1GW6/4kC",
      "include_colab_link": true
    },
    "kernelspec": {
      "name": "python3",
      "display_name": "Python 3"
    },
    "language_info": {
      "name": "python"
    }
  },
  "cells": [
    {
      "cell_type": "markdown",
      "metadata": {
        "id": "view-in-github",
        "colab_type": "text"
      },
      "source": [
        "<a href=\"https://colab.research.google.com/github/mathstat72/Coding-Test/blob/main/3.1%20brute_force.ipynb\" target=\"_parent\"><img src=\"https://colab.research.google.com/assets/colab-badge.svg\" alt=\"Open In Colab\"/></a>"
      ]
    },
    {
      "cell_type": "markdown",
      "source": [
        "- **브루트포스(완전 탐색) 문제**란 정답으로 나올 수 있는 경우의 수를 모두 조사한 다음, 조건에 해당하는 값이 나오면 정답을 얻게 되는 문제"
      ],
      "metadata": {
        "id": "eSAcXB38pssf"
      }
    },
    {
      "cell_type": "markdown",
      "source": [
        "# 2309 - 일곱 난쟁이\n",
        "왕비를 피해 일곱 난쟁이들과 함께 평화롭게 생활하고 있던 백설공주에게 위기가 찾아왔다. 일과를 마치고 돌아온 난쟁이가 일곱 명이 아닌 아홉 명이었던 것이다.\n",
        "\n",
        "아홉 명의 난쟁이는 모두 자신이 \"백설 공주와 일곱 난쟁이\"의 주인공이라고 주장했다. 뛰어난 수학적 직관력을 가지고 있던 백설공주는, 다행스럽게도 일곱 난쟁이의 키의 합이 100이 됨을 기억해 냈다.\n",
        "\n",
        "아홉 난쟁이의 키가 주어졌을 때, 백설공주를 도와 일곱 난쟁이를 찾는 프로그램을 작성하시오.\n",
        "- 아홉 개의 줄에 걸쳐 난쟁이들의 키가 주어진다. 주어지는 키는 100을 넘지 않는 자연수이며, 아홉 난쟁이의 키는 모두 다르며, 가능한 정답이 여러 가지인 경우에는 아무거나 출력한다.\n",
        "- 일곱 난쟁이의 키를 오름차순으로 출력한다. 일곱 난쟁이를 찾을 수 없는 경우는 없다.\n",
        "---\n",
        "- 7명의 키의 합이 100이므로 9명 중 2명을 뽑아서 그 2명의 키를 뺀 값이 100이 되도록 하는 2명이 누군가를 찾으면 되는 문제"
      ],
      "metadata": {
        "id": "AvcpD4TMTbZh"
      }
    },
    {
      "cell_type": "code",
      "source": [
        "## for문 이용\n",
        "array = []\n",
        "for i in range(9):\n",
        "  array.append(int(input()))"
      ],
      "metadata": {
        "colab": {
          "base_uri": "https://localhost:8080/"
        },
        "id": "DpUwCfPJU20E",
        "outputId": "53a72e0a-fb2a-4594-ba17-08e5be4195bc"
      },
      "execution_count": null,
      "outputs": [
        {
          "name": "stdout",
          "output_type": "stream",
          "text": [
            "20\n",
            "7\n",
            "23\n",
            "19\n",
            "10\n",
            "15\n",
            "25\n",
            "8\n",
            "13\n"
          ]
        }
      ]
    },
    {
      "cell_type": "code",
      "source": [
        "total = sum(array)\n",
        "one = 0\n",
        "two = 0\n",
        "\n",
        "for i in range(9):\n",
        "  for j in range(i+1, 9):\n",
        "    if total - (array[i] + array[j]) == 100:\n",
        "      one = array[i]\n",
        "      two = array[j]\n",
        "      break\n",
        "\n",
        "print(one, two)"
      ],
      "metadata": {
        "colab": {
          "base_uri": "https://localhost:8080/"
        },
        "id": "ZnpJfKPSWkcg",
        "outputId": "329a499c-6305-4ac4-f41d-60cf3aaa4bb8"
      },
      "execution_count": null,
      "outputs": [
        {
          "output_type": "stream",
          "name": "stdout",
          "text": [
            "15 25\n"
          ]
        }
      ]
    },
    {
      "cell_type": "code",
      "source": [
        "array.remove(one)\n",
        "array.remove(two)\n",
        "array.sort()       # 오름차순 정렬\n",
        "\n",
        "for i in array:\n",
        "  print(i)"
      ],
      "metadata": {
        "colab": {
          "base_uri": "https://localhost:8080/"
        },
        "id": "cQtHuSvvWppq",
        "outputId": "89a2e81a-0f02-4c2d-f3e1-5ef298a9ce0c"
      },
      "execution_count": null,
      "outputs": [
        {
          "output_type": "stream",
          "name": "stdout",
          "text": [
            "7\n",
            "8\n",
            "10\n",
            "13\n",
            "19\n",
            "20\n",
            "23\n"
          ]
        }
      ]
    },
    {
      "cell_type": "code",
      "source": [
        "sum(array)"
      ],
      "metadata": {
        "colab": {
          "base_uri": "https://localhost:8080/"
        },
        "id": "y4hu2i8MWpmM",
        "outputId": "27facdd6-4bf4-4687-dcae-9db5bcff8ea3"
      },
      "execution_count": null,
      "outputs": [
        {
          "output_type": "execute_result",
          "data": {
            "text/plain": [
              "100"
            ]
          },
          "metadata": {},
          "execution_count": 22
        }
      ]
    },
    {
      "cell_type": "markdown",
      "source": [
        "---\n",
        "- 풀이 요약"
      ],
      "metadata": {
        "id": "C4zT3a7JhBDD"
      }
    },
    {
      "cell_type": "code",
      "source": [
        "## for문 이용\n",
        "array = []\n",
        "for i in range(9):\n",
        "  array.append(int(input()))\n",
        "\n",
        "total = sum(array)\n",
        "one = 0\n",
        "two = 0\n",
        "\n",
        "for i in range(9):\n",
        "  for j in range(i+1, 9):\n",
        "    if total - (array[i] + array[j]) == 100:\n",
        "      one = array[i]\n",
        "      two = array[j]\n",
        "      break\n",
        "\n",
        "array.remove(one)\n",
        "array.remove(two)\n",
        "array.sort()       # 오름차순 정렬\n",
        "\n",
        "# 출력\n",
        "for i in array:\n",
        "  print(i)\n",
        "\n",
        "\n",
        "'''import sys\n",
        "\n",
        "heights = list(map(int, sys.stdin.readline().split()))'''"
      ],
      "metadata": {
        "id": "-LP3KDiMWpiC"
      },
      "execution_count": null,
      "outputs": []
    },
    {
      "cell_type": "markdown",
      "source": [
        "- 다른 풀이"
      ],
      "metadata": {
        "id": "D3L8E5bAg9T9"
      }
    },
    {
      "cell_type": "code",
      "source": [
        "## combinations 라이브러리 이용 - 순열: permutations, 조합: combinations\n",
        "import itertools\n",
        "\n",
        "array = [int(input()) for _ in range(9)]\n",
        "\n",
        "for i in itertools.combinations(array, 7):   # 9C7\n",
        "  if sum(i) == 100:  # 그 합이 100이라면\n",
        "    for j in sorted(i):  # 그 7명을 오름차순 정렬 후 출력\n",
        "      print(j)\n",
        "    break"
      ],
      "metadata": {
        "colab": {
          "base_uri": "https://localhost:8080/"
        },
        "id": "FxKJGxWzZLj_",
        "outputId": "3c6f12cb-48a1-47f7-8f6c-d8270180cca2"
      },
      "execution_count": null,
      "outputs": [
        {
          "output_type": "stream",
          "name": "stdout",
          "text": [
            "20\n",
            "7\n",
            "23\n",
            "19\n",
            "10\n",
            "15\n",
            "25\n",
            "8\n",
            "13\n",
            "7\n",
            "8\n",
            "10\n",
            "13\n",
            "19\n",
            "20\n",
            "23\n"
          ]
        }
      ]
    },
    {
      "cell_type": "markdown",
      "source": [
        "# 3085 - 사탕게임\n",
        "상근이는 어렸을 적에 \"봄보니 (Bomboni)\" 게임을 즐겨했다.\n",
        "\n",
        "가장 처음에 N×N크기에 사탕을 채워 놓는다. 사탕의 색은 모두 같지 않을 수도 있다. 상근이는 사탕의 색이 다른 인접한 두 칸을 고른다. 그 다음 고른 칸에 들어있는 사탕을 서로 교환한다. 이제, 모두 같은 색으로 이루어져 있는 가장 긴 연속 부분(행 또는 열)을 고른 다음 그 사탕을 모두 먹는다.\n",
        "\n",
        "사탕이 채워진 상태가 주어졌을 때, 상근이가 먹을 수 있는 사탕의 최대 개수를 구하는 프로그램을 작성하시오.\n",
        "- 첫째 줄에 보드의 크기 N이 주어진다. (3 ≤ N ≤ 50) 다음 N개 줄에는 보드에 채워져 있는 사탕의 색상이 주어진다. 빨간색은 C, 파란색은 P, 초록색은 Z, 노란색은 Y로 주어진다. 사탕의 색이 다른 인접한 두 칸이 존재하는 입력만 주어진다.\n",
        "- 첫째 줄에 상근이가 먹을 수 있는 사탕의 최대 개수를 출력한다."
      ],
      "metadata": {
        "id": "TNkjN4waa_VQ"
      }
    },
    {
      "cell_type": "code",
      "source": [
        "N = int(input())\n",
        "board = [input() for _ in range(N)]"
      ],
      "metadata": {
        "colab": {
          "base_uri": "https://localhost:8080/"
        },
        "id": "_k0f0mUOT6sD",
        "outputId": "8d8c121e-1c45-4374-d929-0c3b67a5bd49"
      },
      "execution_count": null,
      "outputs": [
        {
          "name": "stdout",
          "output_type": "stream",
          "text": [
            "3\n",
            "CCP\n",
            "CCP\n",
            "PPC\n"
          ]
        }
      ]
    },
    {
      "cell_type": "markdown",
      "source": [
        "- 먼소린지..."
      ],
      "metadata": {
        "id": "ZFBXHm_HhKyl"
      }
    },
    {
      "cell_type": "code",
      "source": [],
      "metadata": {
        "id": "G61eScx5fd1K"
      },
      "execution_count": null,
      "outputs": []
    },
    {
      "cell_type": "markdown",
      "source": [
        "# 1476 - 날짜 계산\n",
        "준규가 사는 나라는 우리가 사용하는 연도와 다른 방식을 이용한다. 준규가 사는 나라에서는 수 3개를 이용해서 연도를 나타낸다. 각각의 수는 지구, 태양, 그리고 달을 나타낸다.\n",
        "\n",
        "지구를 나타내는 수를 E, 태양을 나타내는 수를 S, 달을 나타내는 수를 M이라고 했을 때, 이 세 수는 서로 다른 범위를 가진다. (1 ≤ E ≤ 15, 1 ≤ S ≤ 28, 1 ≤ M ≤ 19)\n",
        "\n",
        "우리가 알고있는 1년은 준규가 살고있는 나라에서는 1 1 1로 나타낼 수 있다. 1년이 지날 때마다, 세 수는 모두 1씩 증가한다. 만약, 어떤 수가 범위를 넘어가는 경우에는 1이 된다.\n",
        "\n",
        "예를 들어, 15년은 15 15 15로 나타낼 수 있다. 하지만, 1년이 지나서 16년이 되면 16 16 16이 아니라 1 16 16이 된다. 이유는 1 ≤ E ≤ 15 라서 범위를 넘어가기 때문이다.\n",
        "\n",
        "E, S, M이 주어졌고, 1년이 준규가 사는 나라에서 1 1 1일때, 준규가 사는 나라에서 E S M이 우리가 알고 있는 연도로 몇 년인지 구하는 프로그램을 작성하시오.\n",
        "- 첫째 줄에 세 수 E, S, M이 주어진다. 문제에 나와있는 범위를 지키는 입력만 주어진다.\n",
        "- 첫째 줄에 E S M으로 표시되는 가장 빠른 연도를 출력한다. 1 1 1은 항상 1이기 때문에, 정답이 음수가 나오는 경우는 없다.\n",
        "---\n",
        "- 연도에서 주어진 E, S, M를 뺏을 때의 나머지가 모두 0이라면 해당 연도가 바로 준규가 사는 나라의 E, S, M"
      ],
      "metadata": {
        "id": "IyBj8TxigSZI"
      }
    },
    {
      "cell_type": "code",
      "source": [
        "e, s, m = map(int, input().split())"
      ],
      "metadata": {
        "colab": {
          "base_uri": "https://localhost:8080/"
        },
        "id": "jh0VKprngu9G",
        "outputId": "b2b1d30e-71a2-4f72-d1d8-57789054e2ba"
      },
      "execution_count": null,
      "outputs": [
        {
          "name": "stdout",
          "output_type": "stream",
          "text": [
            "1 16 16\n"
          ]
        }
      ]
    },
    {
      "cell_type": "code",
      "source": [
        "year = 1\n",
        "\n",
        "while True:\n",
        "  if (year - e) % 15 == 0 and (year - s) % 28 == 0 and (year - m) % 19 == 0 :\n",
        "    break\n",
        "  year += 1\n",
        "\n",
        "print(year)"
      ],
      "metadata": {
        "colab": {
          "base_uri": "https://localhost:8080/"
        },
        "id": "EuKqunxfqfFe",
        "outputId": "badb4d9b-210b-4c5b-d6f5-570dc668437d"
      },
      "execution_count": null,
      "outputs": [
        {
          "output_type": "stream",
          "name": "stdout",
          "text": [
            "16\n"
          ]
        }
      ]
    },
    {
      "cell_type": "markdown",
      "source": [
        "---\n",
        "- 풀이 요약"
      ],
      "metadata": {
        "id": "kDH8-rkDrhAv"
      }
    },
    {
      "cell_type": "code",
      "source": [
        "e, s, m = map(int, input().split())\n",
        "\n",
        "year = 1\n",
        "\n",
        "while True:\n",
        "  if (year - e) % 15 == 0 and (year - s) % 28 == 0 and (year - m) % 19 == 0 :\n",
        "    break\n",
        "  year += 1\n",
        "\n",
        "print(year)"
      ],
      "metadata": {
        "colab": {
          "base_uri": "https://localhost:8080/"
        },
        "id": "6Nwj_W7wqzn9",
        "outputId": "fee7b529-6f11-4677-f3a4-51efafa60570"
      },
      "execution_count": null,
      "outputs": [
        {
          "output_type": "stream",
          "name": "stdout",
          "text": [
            "15 15 15\n",
            "15\n"
          ]
        }
      ]
    },
    {
      "cell_type": "markdown",
      "source": [
        "# 1107 - 리모컨\n",
        "수빈이는 TV를 보고 있다. 수빈이는 채널을 돌리려고 했지만, 버튼을 너무 세게 누르는 바람에, 일부 숫자 버튼이 고장났다.\n",
        "\n",
        "리모컨에는 버튼이 0부터 9까지 숫자, +와 -가 있다. +를 누르면 현재 보고있는 채널에서 +1된 채널로 이동하고, -를 누르면 -1된 채널로 이동한다. 채널 0에서 -를 누른 경우에는 채널이 변하지 않고, 채널은 무한대 만큼 있다.\n",
        "\n",
        "수빈이가 지금 이동하려고 하는 채널은 N이다. 어떤 버튼이 고장났는지 주어졌을 때, 채널 N으로 이동하기 위해서 버튼을 최소 몇 번 눌러야하는지 구하는 프로그램을 작성하시오. \n",
        "\n",
        "수빈이가 지금 보고 있는 채널은 100번이다.\n",
        "- 첫째 줄에 수빈이가 이동하려고 하는 채널 N (0 ≤ N ≤ 500,000)이 주어진다.  둘째 줄에는 고장난 버튼의 개수 M (0 ≤ M ≤ 10)이 주어진다. 고장난 버튼이 있는 경우에는 셋째 줄에는 고장난 버튼이 주어지며, 같은 버튼이 여러 번 주어지는 경우는 없다.\n",
        "- 첫째 줄에 채널 N으로 이동하기 위해 버튼을 최소 몇 번 눌러야 하는지를 출력한다."
      ],
      "metadata": {
        "id": "55OgDqLQri1e"
      }
    },
    {
      "cell_type": "code",
      "source": [
        "N = int(input())   #채널\n",
        "M = int(input())   #고장난 버튼의 수\n",
        "broken = input().split()  #고장난 버튼"
      ],
      "metadata": {
        "colab": {
          "base_uri": "https://localhost:8080/"
        },
        "id": "3TKD5_AFrZ_a",
        "outputId": "307de720-7611-448d-f669-7852afa504c0"
      },
      "execution_count": null,
      "outputs": [
        {
          "name": "stdout",
          "output_type": "stream",
          "text": [
            "5457\n",
            "3\n",
            "6 7 8\n"
          ]
        }
      ]
    },
    {
      "cell_type": "code",
      "source": [
        "# 현재 채널에서 +/- 만 사용하여 이동하는 경우(최대)\n",
        "min_cnt = abs(100 - N)"
      ],
      "metadata": {
        "id": "9zm8HPwZsl7R"
      },
      "execution_count": null,
      "outputs": []
    },
    {
      "cell_type": "code",
      "source": [
        "for num in range(1000001):\n",
        "  for j in str(num):\n",
        "    if j in broken:\n",
        "      break\n",
        "  else:\n",
        "    min_cnt = min(min_cnt, len(str(num)) + abs(num - N))\n",
        "\n",
        "print(min_cnt)"
      ],
      "metadata": {
        "colab": {
          "base_uri": "https://localhost:8080/"
        },
        "id": "x7n4cPtStfKV",
        "outputId": "7c203dca-3ded-4ac1-d55d-8812c00f5ef3"
      },
      "execution_count": null,
      "outputs": [
        {
          "output_type": "stream",
          "name": "stdout",
          "text": [
            "6\n"
          ]
        }
      ]
    },
    {
      "cell_type": "markdown",
      "source": [
        "---\n",
        "- 풀이 요약\n",
        "\n"
      ],
      "metadata": {
        "id": "7aj44XIq1A2N"
      }
    },
    {
      "cell_type": "code",
      "source": [
        "N = int(input())   #채널\n",
        "M = int(input())   #고장난 버튼의 수\n",
        "broken = input().split()  #고장난 버튼\n",
        "\n",
        "# 현재 채널에서 +/- 만 사용하여 이동하는 경우(최대)\n",
        "min_cnt = abs(100 - N)\n",
        "\n",
        "# 반복문을 통해 이동해야하는 채널로 가기 위한 방법을 확인\n",
        "for i in range(1000001):\n",
        "\n",
        "    # 반복문을 통해 채널로 이동하기 위해 눌러야 하는 번호가 고장이 났는지 확인\n",
        "    for j in str(i):\n",
        "        if j in broken:\n",
        "            break\n",
        "\n",
        "    # 채널로 이동 가능하다면 원래 cnt와 채널을 누른 개수와 +/- 를 누른 개수를 cnt에 담는다.\n",
        "    min_cnt = min(min_cnt, len(str(i)) + abs(i - N))\n",
        "\n",
        "print(min_cnt)"
      ],
      "metadata": {
        "id": "ytwhmqoRvkU8",
        "colab": {
          "base_uri": "https://localhost:8080/"
        },
        "outputId": "22ac53f4-4a9e-44d8-fcc3-05037aeef710"
      },
      "execution_count": null,
      "outputs": [
        {
          "output_type": "stream",
          "name": "stdout",
          "text": [
            "5457\n",
            "3\n",
            "6 7 8\n",
            "4\n"
          ]
        }
      ]
    },
    {
      "cell_type": "markdown",
      "source": [
        "# 14500 - 테트로미노\n",
        "폴리오미노란 크기가 1×1인 정사각형을 여러 개 이어서 붙인 도형이며, 다음과 같은 조건을 만족해야 한다.\n",
        "\n",
        "- 정사각형은 서로 겹치면 안 된다.\n",
        "- 도형은 모두 연결되어 있어야 한다.\n",
        "- 정사각형의 변끼리 연결되어 있어야 한다. 즉, 꼭짓점과 꼭짓점만 맞닿아 있으면 안 된다.\n",
        "\n",
        "정사각형 4개를 이어 붙인 폴리오미노는 테트로미노라고 하며, 다음과 같은 5가지가 있다.\n",
        "\n",
        "![image.png](data:image/png;base64,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)\n",
        "\n",
        "아름이는 크기가 N×M인 종이 위에 테트로미노 하나를 놓으려고 한다. 종이는 1×1 크기의 칸으로 나누어져 있으며, 각각의 칸에는 정수가 하나 쓰여 있다.\n",
        "\n",
        "테트로미노 하나를 적절히 놓아서 테트로미노가 놓인 칸에 쓰여 있는 수들의 합을 최대로 하는 프로그램을 작성하시오.\n",
        "\n",
        "테트로미노는 반드시 한 정사각형이 정확히 하나의 칸을 포함하도록 놓아야 하며, 회전이나 대칭을 시켜도 된다.\n",
        "\n",
        "- 첫째 줄에 종이의 세로 크기 N과 가로 크기 M이 주어진다. (4 ≤ N, M ≤ 500)\n",
        "\n",
        "- 둘째 줄부터 N개의 줄에 종이에 쓰여 있는 수가 주어진다. i번째 줄의 j번째 수는 위에서부터 i번째 칸, 왼쪽에서부터 j번째 칸에 쓰여 있는 수이다. 입력으로 주어지는 수는 1,000을 넘지 않는 자연수이다.\n",
        "\n",
        "- 첫째 줄에 테트로미노가 놓인 칸에 쓰인 수들의 합의 최댓값을 출력한다."
      ],
      "metadata": {
        "id": "E7XkzEyz1HEM"
      }
    },
    {
      "cell_type": "code",
      "source": [
        "#N, M = map(int, input().split())\n",
        "#arr = [map(int, input().split()) for _ in range(N)]"
      ],
      "metadata": {
        "colab": {
          "base_uri": "https://localhost:8080/"
        },
        "id": "24mU4A071RLl",
        "outputId": "4a838c19-d45f-442e-9325-5e6f476d8b2a"
      },
      "execution_count": null,
      "outputs": [
        {
          "name": "stdout",
          "output_type": "stream",
          "text": [
            "5 5\n",
            "1 2 3 4 5\n",
            "5 4 3 2 1\n",
            "2 3 4 5 6\n",
            "6 5 4 3 2\n",
            "1 2 1 2 1\n"
          ]
        }
      ]
    },
    {
      "cell_type": "code",
      "source": [
        "N, M = map(int, input().split())\n",
        "arr = [list(map(int, input().split())) for _ in range(N)]"
      ],
      "metadata": {
        "colab": {
          "base_uri": "https://localhost:8080/"
        },
        "id": "swBnS-6F2QIE",
        "outputId": "52c356b5-42c2-45b1-f9c6-5d0a7a84e70e"
      },
      "execution_count": null,
      "outputs": [
        {
          "name": "stdout",
          "output_type": "stream",
          "text": [
            "5 5\n",
            "1 2 3 4 5\n",
            "5 4 3 2 1\n",
            "2 3 4 5 6\n",
            "6 5 4 3 2\n",
            "1 2 1 2 1\n"
          ]
        }
      ]
    },
    {
      "cell_type": "code",
      "source": [
        "arr"
      ],
      "metadata": {
        "colab": {
          "base_uri": "https://localhost:8080/"
        },
        "id": "Xe_UxuH-2ZzV",
        "outputId": "922a051d-3617-4925-9732-5bc3e97acefd"
      },
      "execution_count": null,
      "outputs": [
        {
          "output_type": "execute_result",
          "data": {
            "text/plain": [
              "[[1, 2, 3, 4, 5],\n",
              " [5, 4, 3, 2, 1],\n",
              " [2, 3, 4, 5, 6],\n",
              " [6, 5, 4, 3, 2],\n",
              " [1, 2, 1, 2, 1]]"
            ]
          },
          "metadata": {},
          "execution_count": 77
        }
      ]
    },
    {
      "cell_type": "markdown",
      "source": [
        "- 6+5+4+4=19\n",
        "- 댕어렵구만..? 이게 삼성 기출이라니...\n",
        "- https://aigong.tistory.com/473"
      ],
      "metadata": {
        "id": "gQ3wwBWh42AK"
      }
    },
    {
      "cell_type": "markdown",
      "source": [
        "# 6064 - 카잉달력\n",
        "최근에 ICPC 탐사대는 남아메리카의 잉카 제국이 놀라운 문명을 지닌 카잉 제국을 토대로 하여 세워졌다는 사실을 발견했다. 카잉 제국의 백성들은 특이한 달력을 사용한 것으로 알려져 있다. 그들은 M과 N보다 작거나 같은 두 개의 자연수 x, y를 가지고 각 년도를 <x:y>와 같은 형식으로 표현하였다. 그들은 이 세상의 시초에 해당하는 첫 번째 해를 <1:1>로 표현하고, 두 번째 해를 <2:2>로 표현하였다. <x:y>의 다음 해를 표현한 것을 <x':y'>이라고 하자. 만일 x < M 이면 x' = x + 1이고, 그렇지 않으면 x' = 1이다. 같은 방식으로 만일 y < N이면 y' = y + 1이고, 그렇지 않으면 y' = 1이다. <M:N>은 그들 달력의 마지막 해로서, 이 해에 세상의 종말이 도래한다는 예언이 전해 온다.\n",
        "\n",
        "예를 들어, M = 10 이고 N = 12라고 하자. 첫 번째 해는 <1:1>로 표현되고, 11번째 해는 <1:11>로 표현된다. <3:1>은 13번째 해를 나타내고, <10:12>는 마지막인 60번째 해를 나타낸다.\n",
        "\n",
        "네 개의 정수 M, N, x와 y가 주어질 때, <M:N>이 카잉 달력의 마지막 해라고 하면 <x:y>는 몇 번째 해를 나타내는지 구하는 프로그램을 작성하라.\n",
        "- 입력 데이터는 표준 입력을 사용한다. 입력은 T개의 테스트 데이터로 구성된다. 입력의 첫 번째 줄에는 입력 데이터의 수를 나타내는 정수 T가 주어진다. 각 테스트 데이터는 한 줄로 구성된다. 각 줄에는 네 개의 정수 M, N, x와 y가 주어진다. (1 ≤ M, N ≤ 40,000, 1 ≤ x ≤ M, 1 ≤ y ≤ N) 여기서 <M:N>은 카잉 달력의 마지막 해를 나타낸다.\n",
        "- 출력은 표준 출력을 사용한다. 각 테스트 데이터에 대해, 정수 k를 한 줄에 출력한다. 여기서 k는 <x:y>가 k번째 해를 나타내는 것을 의미한다. 만일 <x:y>에 의해 표현되는 해가 없다면, 즉, <x:y>가 유효하지 않은 표현이면, -1을 출력한다.\n"
      ],
      "metadata": {
        "id": "aWr1BCks5EfE"
      }
    },
    {
      "cell_type": "code",
      "source": [
        "T = int(input())  #입력 데이터의 수\n",
        "data = [list(map(int, input().split())) for _ in range(T)]"
      ],
      "metadata": {
        "colab": {
          "base_uri": "https://localhost:8080/"
        },
        "id": "ipdS6r6n2gHO",
        "outputId": "5549ac70-e113-40d9-93f0-8520870c984f"
      },
      "execution_count": null,
      "outputs": [
        {
          "name": "stdout",
          "output_type": "stream",
          "text": [
            "3\n",
            "10 12 3 9\n",
            "10 12 7 2\n",
            "13 11 5 6\n"
          ]
        }
      ]
    },
    {
      "cell_type": "code",
      "source": [],
      "metadata": {
        "colab": {
          "base_uri": "https://localhost:8080/"
        },
        "id": "2yTLnM_F5nJs",
        "outputId": "6e55cedf-c5d6-4d5c-8da6-b1fa29c290bc"
      },
      "execution_count": null,
      "outputs": [
        {
          "output_type": "execute_result",
          "data": {
            "text/plain": [
              "[10, 12, 7, 2]"
            ]
          },
          "metadata": {},
          "execution_count": 80
        }
      ]
    },
    {
      "cell_type": "code",
      "source": [],
      "metadata": {
        "id": "hMF9V8bL6VBx"
      },
      "execution_count": null,
      "outputs": []
    },
    {
      "cell_type": "markdown",
      "source": [
        "# 1748 - 수 이어 쓰기1\n",
        "1부터 N까지의 수를 이어서 쓰면 다음과 같이 새로운 하나의 수를 얻을 수 있다.\n",
        "\n",
        "> 1234567891011121314151617181920212223...\n",
        "\n",
        "이렇게 만들어진 새로운 수는 몇 자리 수일까? 이 수의 자릿수를 구하는 프로그램을 작성하시오.\n",
        "\n",
        "- 첫째 줄에 N(1 ≤ N ≤ 100,000,000)이 주어진다.\n",
        "- 첫째 줄에 새로운 수의 자릿수를 출력한다."
      ],
      "metadata": {
        "id": "Dinv0cAE7jis"
      }
    },
    {
      "cell_type": "code",
      "source": [
        "num = int(input())"
      ],
      "metadata": {
        "colab": {
          "base_uri": "https://localhost:8080/"
        },
        "id": "NE0XvdBe7sBs",
        "outputId": "7249d390-da95-4e3e-8e9f-e99d455d5cba"
      },
      "execution_count": null,
      "outputs": [
        {
          "name": "stdout",
          "output_type": "stream",
          "text": [
            "5\n"
          ]
        }
      ]
    },
    {
      "cell_type": "code",
      "source": [
        "new_num = ''\n",
        "for i in range(1, num+1):\n",
        "  i = str(i)\n",
        "  new_num += i\n",
        "print(len(new_num))"
      ],
      "metadata": {
        "colab": {
          "base_uri": "https://localhost:8080/"
        },
        "id": "0ZWE44mk7zdP",
        "outputId": "6976c6bd-3e0b-4db4-96ec-8222bfd90583"
      },
      "execution_count": null,
      "outputs": [
        {
          "output_type": "stream",
          "name": "stdout",
          "text": [
            "5\n"
          ]
        }
      ]
    },
    {
      "cell_type": "markdown",
      "source": [
        "---\n",
        "- 코드 정리"
      ],
      "metadata": {
        "id": "GoNiYR9t8n1G"
      }
    },
    {
      "cell_type": "code",
      "source": [
        "num = int(input())\n",
        "\n",
        "new_num = ''\n",
        "for i in range(1, num+1):\n",
        "  i = str(i)\n",
        "  new_num += i\n",
        "print(len(new_num))"
      ],
      "metadata": {
        "colab": {
          "base_uri": "https://localhost:8080/"
        },
        "id": "Od6TAFZn8C0U",
        "outputId": "7cb82edf-a8e1-429e-b0f5-32649cc770a2"
      },
      "execution_count": null,
      "outputs": [
        {
          "output_type": "stream",
          "name": "stdout",
          "text": [
            "15\n",
            "21\n"
          ]
        }
      ]
    },
    {
      "cell_type": "markdown",
      "source": [
        "- 이건 쫌 쉬웠다. 시간 초과 되는지는 모르겟음"
      ],
      "metadata": {
        "id": "m2YjvoKM8uNa"
      }
    },
    {
      "cell_type": "markdown",
      "source": [
        "# 9095 - 1, 2, 3 더하기\n",
        "정수 4를 1, 2, 3의 합으로 나타내는 방법은 총 7가지가 있다. 합을 나타낼 때는 수를 1개 이상 사용해야 한다.\n",
        "\n",
        "- 1+1+1+1\n",
        "- 1+1+2\n",
        "- 1+2+1\n",
        "- 2+1+1\n",
        "- 2+2\n",
        "- 1+3\n",
        "- 3+1\n",
        "\n",
        "정수 n이 주어졌을 때, n을 1, 2, 3의 합으로 나타내는 방법의 수를 구하는 프로그램을 작성하시오.\n",
        "\n",
        "- 첫째 줄에 테스트 케이스의 개수 T가 주어진다. 각 테스트 케이스는 한 줄로 이루어져 있고, 정수 n이 주어진다. n은 양수이며 11보다 작다.\n",
        "\n",
        "- 각 테스트 케이스마다, n을 1, 2, 3의 합으로 나타내는 방법의 수를 출력한다."
      ],
      "metadata": {
        "id": "QHPvJFVJ87tv"
      }
    },
    {
      "cell_type": "code",
      "source": [
        "T = int(input())    #테스트 케이스의 개수\n",
        "n = [int(input()) for _ in range(T)]"
      ],
      "metadata": {
        "colab": {
          "base_uri": "https://localhost:8080/"
        },
        "id": "-St57Uf68qwc",
        "outputId": "c7288c9d-a2b8-4d6e-fd83-2cd61f938357"
      },
      "execution_count": null,
      "outputs": [
        {
          "name": "stdout",
          "output_type": "stream",
          "text": [
            "3\n",
            "4\n",
            "7\n",
            "10\n"
          ]
        }
      ]
    },
    {
      "cell_type": "code",
      "source": [
        "for i in n:\n",
        "  print(i)"
      ],
      "metadata": {
        "colab": {
          "base_uri": "https://localhost:8080/"
        },
        "id": "ht7deyjo_gs3",
        "outputId": "29f84501-fe8c-4c58-a62f-14e7d29ef631"
      },
      "execution_count": null,
      "outputs": [
        {
          "output_type": "stream",
          "name": "stdout",
          "text": [
            "4\n",
            "7\n",
            "10\n"
          ]
        }
      ]
    },
    {
      "cell_type": "code",
      "source": [
        "'''\n",
        "앞 숫자가 뒷 숫자보다 무조건 커야된다고 하면..\n",
        "\n",
        "3 3 1           3\n",
        "3 2 2           3\n",
        "3 2 1 1         12\n",
        "3 1 1 1 1       5\n",
        "\n",
        "2 2 2 1         4\n",
        "2 2 1 1 1       10\n",
        "2 1 1 1 1 1     6\n",
        "\n",
        "1 1 1 1 1 1 1   1\n",
        "'''\n",
        "\n",
        "'''\n",
        "1\n",
        "\n",
        "1 1\n",
        "\n",
        "1 1 1\n",
        "2 1\n",
        "\n",
        "3 1\n",
        "2 2\n",
        "2 1 1\n",
        "1 1 1 1\n",
        "'''"
      ],
      "metadata": {
        "id": "9XDVGJow_jQj"
      },
      "execution_count": null,
      "outputs": []
    },
    {
      "cell_type": "code",
      "source": [
        "3+3+12+5+4+10+6+1"
      ],
      "metadata": {
        "colab": {
          "base_uri": "https://localhost:8080/"
        },
        "id": "nAKtOXAUiYJG",
        "outputId": "b0a11526-a79d-4c3f-ac44-188dcf549329"
      },
      "execution_count": null,
      "outputs": [
        {
          "output_type": "execute_result",
          "data": {
            "text/plain": [
              "44"
            ]
          },
          "metadata": {},
          "execution_count": 5
        }
      ]
    },
    {
      "cell_type": "markdown",
      "source": [
        "- 3085\n",
        "- 6064\n",
        "- 14500 못풀"
      ],
      "metadata": {
        "id": "MiOvh2zRZG9_"
      }
    },
    {
      "cell_type": "code",
      "source": [],
      "metadata": {
        "id": "I5ir3jFeZKPV"
      },
      "execution_count": null,
      "outputs": []
    }
  ]
}