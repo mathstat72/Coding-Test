{
  "nbformat": 4,
  "nbformat_minor": 0,
  "metadata": {
    "colab": {
      "provenance": [],
      "authorship_tag": "ABX9TyPf3gIQX34rCUcMBC58J0DW",
      "include_colab_link": true
    },
    "kernelspec": {
      "name": "python3",
      "display_name": "Python 3"
    },
    "language_info": {
      "name": "python"
    }
  },
  "cells": [
    {
      "cell_type": "markdown",
      "metadata": {
        "id": "view-in-github",
        "colab_type": "text"
      },
      "source": [
        "<a href=\"https://colab.research.google.com/github/mathstat72/Coding-Test/blob/main/2.math.ipynb\" target=\"_parent\"><img src=\"https://colab.research.google.com/assets/colab-badge.svg\" alt=\"Open In Colab\"/></a>"
      ]
    },
    {
      "cell_type": "markdown",
      "source": [
        "# 10430 - 나머지\n",
        "(A+B)%C는 ((A%C) + (B%C))%C 와 같을까?\n",
        "\n",
        "(A×B)%C는 ((A%C) × (B%C))%C 와 같을까?\n",
        "\n",
        "세 수 A, B, C가 주어졌을 때, 위의 네 가지 값을 구하는 프로그램을 작성하시오."
      ],
      "metadata": {
        "id": "oyOO6IAlWB_E"
      }
    },
    {
      "cell_type": "code",
      "execution_count": null,
      "metadata": {
        "colab": {
          "base_uri": "https://localhost:8080/"
        },
        "id": "fxafXE6wVmXc",
        "outputId": "494af69f-59a5-4245-9d1f-5653e26df96b"
      },
      "outputs": [
        {
          "name": "stdout",
          "output_type": "stream",
          "text": [
            "5 8 4\n"
          ]
        }
      ],
      "source": [
        "a, b, c = map(int, input().split())"
      ]
    },
    {
      "cell_type": "code",
      "source": [
        "print((a+b)%c, ((a%c)+(b%c))%c, (a*b)%c, ((a%c)*(b%c))%c , sep='\\n')"
      ],
      "metadata": {
        "colab": {
          "base_uri": "https://localhost:8080/"
        },
        "id": "9QJ6BySIWZux",
        "outputId": "7a3e5d0d-65a9-48ad-b1ff-330ae5bb6a0f"
      },
      "execution_count": null,
      "outputs": [
        {
          "output_type": "stream",
          "name": "stdout",
          "text": [
            "1\n",
            "1\n",
            "0\n",
            "0\n"
          ]
        }
      ]
    },
    {
      "cell_type": "markdown",
      "source": [
        "# 4375 - 1\n",
        "2와 5로 나누어 떨어지지 않는 정수 n(1 ≤ n ≤ 10000)가 주어졌을 때, 1로만 이루어진 n의 배수를 찾는 프로그램을 작성하시오.\n"
      ],
      "metadata": {
        "id": "bhClsjZSWoki"
      }
    },
    {
      "cell_type": "markdown",
      "source": [
        "- 어렵다리.. n으로 나누어 떨어지는 1으로만 이루어진 수를 찾는 문제"
      ],
      "metadata": {
        "id": "ctsO1zLIax0E"
      }
    },
    {
      "cell_type": "code",
      "source": [
        "num = int(input())\n",
        "\n",
        "def one(num):\n",
        "  temp = '1'\n",
        "  answer = 0\n",
        "\n",
        "  while True:\n",
        "    if int(temp) % num == 0:\n",
        "      answer = len(temp)\n",
        "      break\n",
        "    temp += '1'\n",
        "  return answer\n",
        "\n",
        "print(one(num))"
      ],
      "metadata": {
        "colab": {
          "base_uri": "https://localhost:8080/"
        },
        "id": "Yks336EKYA96",
        "outputId": "f903ea23-a079-417e-b4bc-2067d29841f9"
      },
      "execution_count": null,
      "outputs": [
        {
          "output_type": "stream",
          "name": "stdout",
          "text": [
            "7\n",
            "6\n"
          ]
        }
      ]
    },
    {
      "cell_type": "markdown",
      "source": [
        "# 1037 - 약수\n",
        "양수 A가 N의 진짜 약수가 되려면, N이 A의 배수이고, A가 1과 N이 아니어야 한다. 어떤 수 N의 진짜 약수가 모두 주어질 때, N을 구하는 프로그램을 작성하시오."
      ],
      "metadata": {
        "id": "gxCHriOlauS6"
      }
    },
    {
      "cell_type": "markdown",
      "source": [
        "- 1과 N이 아닌 8의 약수: 2, 4 (개수:2)\n",
        "- 4의 약수: 2 (개수:1)\n",
        "- 24의 약수: 2, 3, 4, 6, 8, 12 (개수: 6) ...\n",
        "---\n",
        "- 약수들을 정렬한 다음 가장 작은 약수와 가장 큰 약수를 곱하면 N이 된다.\n"
      ],
      "metadata": {
        "id": "MTECKNxndHB6"
      }
    },
    {
      "cell_type": "code",
      "source": [
        "# 입력\n",
        "cnt = int(input())  # N의 진짜 약수의 개수 (N<= 50)\n",
        "div = list(map(int, input().split())) # N의 진짜 약수 (2<=N<=1000000)\n",
        "\n",
        "# 출력\n",
        "div.sort()\n",
        "print(div[0]*div[-1])"
      ],
      "metadata": {
        "colab": {
          "base_uri": "https://localhost:8080/"
        },
        "id": "mXDOXYYAZfos",
        "outputId": "55de7689-d5cd-45b0-ea75-df28e6211a19"
      },
      "execution_count": null,
      "outputs": [
        {
          "output_type": "stream",
          "name": "stdout",
          "text": [
            "6\n",
            "3 4 2 12 6 8\n",
            "24\n"
          ]
        }
      ]
    },
    {
      "cell_type": "markdown",
      "source": [
        "# 17427 - 약수의 합 2\n",
        "두 자연수 A와 B가 있을 때, A = BC를 만족하는 자연수 C를 A의 약수라고 한다. 예를 들어, 2의 약수는 1, 2가 있고, 24의 약수는 1, 2, 3, 4, 6, 8, 12, 24가 있다. 자연수 A의 약수의 합은 A의 모든 약수를 더한 값이고, f(A)로 표현한다. x보다 작거나 같은 모든 자연수 y의 f(y)값을 더한 값은 g(x)로 표현한다.\n",
        "\n",
        "자연수 N이 주어졌을 때, g(N)을 구해보자."
      ],
      "metadata": {
        "id": "-YeJ93WWeSZa"
      }
    },
    {
      "cell_type": "markdown",
      "source": [
        "- x=3일때\n",
        "  - 1의 약수: 1, 약수의 합: f(1) = 1\n",
        "  - 2의 약수: 1, 2, 약수의 합: f(2) = 3\n",
        "  - 3의 약수: 1, 3, 약수의 합: f(3) = 4\n",
        "  - f(1) + f(2) + f(3) = 1 + 3 + 4 = 8 = g(x)\n",
        "---\n",
        "1\n",
        "1 2\n",
        "1   3\n",
        "1 2   4\n",
        "1       5\n",
        "1 2 3     6\n",
        "1           7\n",
        "1 2   4       8\n",
        "1   3           9\n",
        "1 2     5         10"
      ],
      "metadata": {
        "id": "wfsCLoPmemQ1"
      }
    },
    {
      "cell_type": "code",
      "source": [
        "# 입력\n",
        "num = int(input())  # 자연수 N\n",
        "\n",
        "# 출력\n",
        "div = 0  # 약수의 합\n",
        "\n",
        "for i in range(1, num+1):\n",
        "  for j in range(1,i+1):\n",
        "    if i % j == 0:\n",
        "      div += j\n",
        "  #print(div)\n",
        "print(div)"
      ],
      "metadata": {
        "colab": {
          "base_uri": "https://localhost:8080/"
        },
        "id": "SjLEw9lzgO4W",
        "outputId": "7dacd6ed-bdfe-46fe-e70b-31c38257b162"
      },
      "execution_count": null,
      "outputs": [
        {
          "output_type": "stream",
          "name": "stdout",
          "text": [
            "10000\n",
            "82256014\n"
          ]
        }
      ]
    },
    {
      "cell_type": "code",
      "source": [
        "n = int(input())\n",
        "\n",
        "answer = 0\n",
        "for i in range(1,n+1):\n",
        "    answer += i*(n//i)\n",
        "print(answer)"
      ],
      "metadata": {
        "colab": {
          "base_uri": "https://localhost:8080/"
        },
        "id": "lR9ORifGrJ3_",
        "outputId": "10a835cf-8464-4614-a5a9-1299c142b119"
      },
      "execution_count": null,
      "outputs": [
        {
          "output_type": "stream",
          "name": "stdout",
          "text": [
            "10000\n",
            "82256014\n"
          ]
        }
      ]
    },
    {
      "cell_type": "markdown",
      "source": [
        "# 17425 - 약수의 합\n",
        "두 자연수 A와 B가 있을 때, A = BC를 만족하는 자연수 C를 A의 약수라고 한다. 예를 들어, 2의 약수는 1, 2가 있고, 24의 약수는 1, 2, 3, 4, 6, 8, 12, 24가 있다. 자연수 A의 약수의 합은 A의 모든 약수를 더한 값이고, f(A)로 표현한다. x보다 작거나 같은 모든 자연수 y의 f(y)값을 더한 값은 g(x)로 표현한다.\n",
        "\n",
        "자연수 N이 주어졌을 때, g(N)을 구해보자."
      ],
      "metadata": {
        "id": "_sg7aP3UyRNN"
      }
    },
    {
      "cell_type": "markdown",
      "source": [
        "- 어렵다...https://www.acmicpc.net/problem/17425"
      ],
      "metadata": {
        "id": "G-Th8Cka1n32"
      }
    },
    {
      "cell_type": "markdown",
      "source": [
        "# 2609 - 최대공약수와 최소공배수\n",
        "두 개의 자연수를 입력받아 최대 공약수와 최소 공배수를 출력하는 프로그램을 작성하시오."
      ],
      "metadata": {
        "id": "7Om9KLyF27AJ"
      }
    },
    {
      "cell_type": "code",
      "source": [
        "from binascii import b2a_base64\n",
        "a, b = map(int, input().split())\n",
        "\n",
        "# 최대공약수\n",
        "def gcd(a, b):\n",
        "  while b > 0:\n",
        "    a, b = b, a%b   #유클리드 호제법: gcd(a,b)=gcd(b,r) r=a%b, r==0 -> gcd!\n",
        "  return a\n",
        "\n",
        "# 최소공배수\n",
        "def lcm(a, b):\n",
        "  return int(a*b/gcd(a,b))\n",
        "\n",
        "print(gcd(a, b))\n",
        "print(lcm(a, b))"
      ],
      "metadata": {
        "colab": {
          "base_uri": "https://localhost:8080/"
        },
        "id": "TLLp3DSe1klx",
        "outputId": "aba662de-9d6f-4e10-ee0b-5400dd218576"
      },
      "execution_count": null,
      "outputs": [
        {
          "output_type": "stream",
          "name": "stdout",
          "text": [
            "4 8\n",
            "4\n",
            "8\n"
          ]
        }
      ]
    },
    {
      "cell_type": "markdown",
      "source": [
        "# 1978 - 소수찾기\n",
        "주어진 수 N개 중에서 소수가 몇 개인지 찾아서 출력하는 프로그램을 작성하시오."
      ],
      "metadata": {
        "id": "ynD-KU6j7B58"
      }
    },
    {
      "cell_type": "markdown",
      "source": [
        "- 소수(prime number) : 1보다 큰 자연수 중 1과 자기 자신만을 약수로 가지는 수"
      ],
      "metadata": {
        "id": "ydlKpR118POo"
      }
    },
    {
      "cell_type": "code",
      "source": [
        "# 입력\n",
        "n = int(input())\n",
        "numbers = map(int, input().split())\n",
        "\n",
        "# 출력 - 소수의 개수\n",
        "sosu = 0\n",
        "for num in numbers:\n",
        "    error = 0\n",
        "    if num > 1 :\n",
        "        for i in range(2, num):  # 2부터 n-1까지\n",
        "            if num % i == 0:\n",
        "                error += 1  # 2부터 n-1까지 나눈 몫이 0이면 error가 증가\n",
        "        if error == 0:\n",
        "            sosu += 1  # error가 없으면 소수.)\n",
        "print(sosu)"
      ],
      "metadata": {
        "colab": {
          "base_uri": "https://localhost:8080/"
        },
        "id": "64GEjYft5JhH",
        "outputId": "a134fbb9-c593-4c96-a69a-b05a8c407e89"
      },
      "execution_count": null,
      "outputs": [
        {
          "output_type": "stream",
          "name": "stdout",
          "text": [
            "4\n",
            "1 3 5 7\n",
            "3\n"
          ]
        }
      ]
    },
    {
      "cell_type": "markdown",
      "source": [
        "# 1929 - 소수 구하기\n",
        "M이상 N이하의 소수를 모두 출력하는 프로그램을 작성하시오.\n",
        "1. 2와 5를 제외하면, 모든 소수의 일의 자리 수는 1, 3, 7, 9이다.\n",
        "2. 어떤 자연수 n이 소수임을 판정하기 위해선 sqrt(n) 까지의 수 중 1을 제외하고 그 자연수의 약수가 있는지 확인하면 된다.\n",
        "3. 배수의 성질을 이용하면 쉽게 구할 수 있다.\n"
      ],
      "metadata": {
        "id": "lOBg681v_ypX"
      }
    },
    {
      "cell_type": "code",
      "source": [
        "# 입력\n",
        "m, n = map(int, input().split())\n",
        "\n",
        "# 출력\n",
        "def prime(num):\n",
        "  if num < 2:\n",
        "    return False\n",
        "  \n",
        "  i=2\n",
        "  while i * i <= num:\n",
        "    if num % i == 0:\n",
        "      return False\n",
        "    i += 1\n",
        "  return True\n",
        "\n",
        "for i in range(m, n+1):\n",
        "  if prime(i):\n",
        "    print(i)"
      ],
      "metadata": {
        "colab": {
          "base_uri": "https://localhost:8080/"
        },
        "id": "0SPV-Rl984O6",
        "outputId": "40f8d702-e892-46c8-8319-985c1cf11a4e"
      },
      "execution_count": null,
      "outputs": [
        {
          "output_type": "stream",
          "name": "stdout",
          "text": [
            "3 16\n",
            "3\n",
            "5\n",
            "7\n",
            "11\n",
            "13\n"
          ]
        }
      ]
    },
    {
      "cell_type": "markdown",
      "source": [
        "# 6588 - 골드바흐의 추측\n",
        "1742년, 독일의 아마추어 수학가 크리스티안 골드바흐는 레온하르트 오일러에게 다음과 같은 추측을 제안하는 편지를 보냈다.\n",
        "\n",
        "4보다 큰 모든 짝수는 두 홀수 소수의 합으로 나타낼 수 있다.\n",
        "예를 들어 8은 3 + 5로 나타낼 수 있고, 3과 5는 모두 홀수인 소수이다. 또, 20 = 3 + 17 = 7 + 13, 42 = 5 + 37 = 11 + 31 = 13 + 29 = 19 + 23 이다.\n",
        "\n",
        "이 추측은 아직도 해결되지 않은 문제이다.\n",
        "\n",
        "백만 이하의 모든 짝수에 대해서, 이 추측을 검증하는 프로그램을 작성하시오."
      ],
      "metadata": {
        "id": "yYHMgkQJPYHQ"
      }
    },
    {
      "cell_type": "code",
      "source": [
        "def aristo(a):\n",
        "    if a==1:\n",
        "        return False\n",
        "    else:\n",
        "        for i in range(2, int(a**0.5)+1):\n",
        "            if a%i==0: \n",
        "                return False\n",
        "        return True    \n",
        "\n",
        "while True:\n",
        "    n=int(input())\n",
        "    if n==0: break\n",
        "    for i in range(3,n+1,2):\n",
        "        if aristo(i):\n",
        "            if aristo(n-i):\n",
        "                print(n,'=',i,'+',n-i)\n",
        "                break"
      ],
      "metadata": {
        "colab": {
          "base_uri": "https://localhost:8080/"
        },
        "id": "-COl6gFCULbL",
        "outputId": "887ce525-c59e-4924-d5cf-362aca694f98"
      },
      "execution_count": null,
      "outputs": [
        {
          "name": "stdout",
          "output_type": "stream",
          "text": [
            "72\n",
            "72 = 5 + 67\n",
            "42\n",
            "42 = 5 + 37\n",
            "20\n",
            "20 = 3 + 17\n",
            "0\n"
          ]
        }
      ]
    },
    {
      "cell_type": "markdown",
      "source": [
        "### Review\n",
        "- 17425 - 약수의 합 : 못풀음\n",
        "- 6588 - 골드바흐의 추측 : 설명 필요"
      ],
      "metadata": {
        "id": "_MiiP4QVPrc_"
      }
    },
    {
      "cell_type": "code",
      "source": [],
      "metadata": {
        "id": "ttpIqCbZQABh"
      },
      "execution_count": null,
      "outputs": []
    }
  ]
}