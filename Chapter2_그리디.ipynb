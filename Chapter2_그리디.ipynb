{
  "nbformat": 4,
  "nbformat_minor": 0,
  "metadata": {
    "colab": {
      "provenance": [],
      "collapsed_sections": [
        "lEXbrvTp1x_f",
        "BVKOZMBzEfr8",
        "b1ej412WEkHj"
      ],
      "authorship_tag": "ABX9TyM8ZfDkV3icpkCYnmXCn6+9",
      "include_colab_link": true
    },
    "kernelspec": {
      "name": "python3",
      "display_name": "Python 3"
    },
    "language_info": {
      "name": "python"
    }
  },
  "cells": [
    {
      "cell_type": "markdown",
      "metadata": {
        "id": "view-in-github",
        "colab_type": "text"
      },
      "source": [
        "<a href=\"https://colab.research.google.com/github/mathstat72/Coding-Test/blob/main/Chapter2_%EA%B7%B8%EB%A6%AC%EB%94%94.ipynb\" target=\"_parent\"><img src=\"https://colab.research.google.com/assets/colab-badge.svg\" alt=\"Open In Colab\"/></a>"
      ]
    },
    {
      "cell_type": "markdown",
      "source": [
        "# PART 2.\n",
        "## 2. 큰 수의 법칙\n",
        "- 주어진 수들을 M번 더하여 가장 큰 수를 만드는 법칙\n",
        "- 단, 배열의 특정한 인덱스(번호)에 해당하는 수가 연속해서 K번을 초과하여 더해질 수 없다.\n",
        "  - 첫째 줄에 N, M, K의 자연수가 주어지며, 각 자연수는 공백으로 구분한다.\n",
        "  - 둘째 줄에 N개의 자연수가 주어진다. 각 자연수는 공백으로 구분한다. 단, 각각의 자연수는 1 이상 10,000 이하의 수로 주어진다.\n",
        "  - 입력으로 주어지는 K는 항상 M보다 작거나 같다.\n",
        "  - 첫째 줄에 동빈이의 큰 수의 법칙에 따라 더해진 답을 출력한다.\n",
        "---\n",
        "- 가장 큰 수와 두번째로 큰 수만 있으면 됌"
      ],
      "metadata": {
        "id": "6tj_kAvjnNfo"
      }
    },
    {
      "cell_type": "code",
      "source": [
        "# 입력 예시\n",
        "'''5 8 3\n",
        "2 4 5 4 6\n",
        "\n",
        "# 출력 예시\n",
        "46'''\n",
        "\n",
        "# 과정\n",
        "6 + 6 + 6 + 5 + 6 + 6 + 6 + 5"
      ],
      "metadata": {
        "colab": {
          "base_uri": "https://localhost:8080/"
        },
        "id": "5bRSc2Dko3sC",
        "outputId": "0da62c0f-c848-40d5-8222-340218b8fbe8"
      },
      "execution_count": null,
      "outputs": [
        {
          "output_type": "execute_result",
          "data": {
            "text/plain": [
              "46"
            ]
          },
          "metadata": {},
          "execution_count": 2
        }
      ]
    },
    {
      "cell_type": "code",
      "execution_count": null,
      "metadata": {
        "colab": {
          "base_uri": "https://localhost:8080/"
        },
        "id": "YPKkNvr_nE0A",
        "outputId": "3ef5575f-651d-4c85-b1b7-6a6dc9b646b0"
      },
      "outputs": [
        {
          "name": "stdout",
          "output_type": "stream",
          "text": [
            "5 8 3\n",
            "2 4 5 4 6\n"
          ]
        }
      ],
      "source": [
        "n, m, k = map(int, input().split())\n",
        "num = list(map(int, input().split()))"
      ]
    },
    {
      "cell_type": "code",
      "source": [
        "num.sort()\n",
        "first = num[-1]\n",
        "second = num[-2]"
      ],
      "metadata": {
        "id": "7HoszRDeqGps"
      },
      "execution_count": null,
      "outputs": []
    },
    {
      "cell_type": "code",
      "source": [
        "result = 0\n",
        "\n",
        "while True:\n",
        "    for i in range(k):  #가장 큰 수를 k번 더하기\n",
        "        if m == 0:\n",
        "            break\n",
        "        result += first\n",
        "        m -= 1\n",
        "    if m == 0:\n",
        "        break\n",
        "    result += second\n",
        "    m -= 1\n",
        "\n",
        "print(result)"
      ],
      "metadata": {
        "colab": {
          "base_uri": "https://localhost:8080/"
        },
        "id": "2AgxS0t4rFJI",
        "outputId": "4dd7b220-728b-4e25-98a7-22ba0d2d5c9a"
      },
      "execution_count": null,
      "outputs": [
        {
          "output_type": "stream",
          "name": "stdout",
          "text": [
            "46\n"
          ]
        }
      ]
    },
    {
      "cell_type": "code",
      "source": [
        "(m//(k+1))*k+m%(k+1)"
      ],
      "metadata": {
        "colab": {
          "base_uri": "https://localhost:8080/"
        },
        "id": "LjZdH_bIssk1",
        "outputId": "0c37e989-73b3-404d-f981-084d39eff8c2"
      },
      "execution_count": null,
      "outputs": [
        {
          "output_type": "execute_result",
          "data": {
            "text/plain": [
              "6"
            ]
          },
          "metadata": {},
          "execution_count": 9
        }
      ]
    },
    {
      "cell_type": "code",
      "source": [
        "count = (m//(k+1))*k+m%(k+1) #가장 큰 수가 더해지는 횟수\n",
        "\n",
        "result = 0\n",
        "result += count * first  #가장 큰 수 더하기\n",
        "result += (m-count) * second  #두번째로 큰 수 더하기\n",
        "\n",
        "print(result)"
      ],
      "metadata": {
        "colab": {
          "base_uri": "https://localhost:8080/"
        },
        "id": "o8H0KEKKuJcq",
        "outputId": "18a863f8-a344-4378-b585-578318163ca3"
      },
      "execution_count": null,
      "outputs": [
        {
          "output_type": "stream",
          "name": "stdout",
          "text": [
            "46\n"
          ]
        }
      ]
    },
    {
      "cell_type": "markdown",
      "source": [
        "- 반복되는 수열: (6, 6, 6, 5)\n",
        "- 반복되는 수열의 길이: (K + 1)\n",
        "- 수열이 반복되는 횟수: M // (K + 1)\n",
        "- 여기에 K를 곱해주면 가장 큰 수가 등장하는 횟수\n",
        "- M이 (K+1)로 나누어 떨어지지 않는다면, M을 (K+1)로 나눈 나머지만큼 가장 큰 수가 추가로 더해짐\n",
        "- 즉, int(m/(k+1))*k+m%(k+1) --> 가장 큰 수가 더해지는 횟수!"
      ],
      "metadata": {
        "id": "Ez1pHF0Au4Bq"
      }
    },
    {
      "cell_type": "code",
      "source": [
        "(m // (k+1))*k"
      ],
      "metadata": {
        "colab": {
          "base_uri": "https://localhost:8080/"
        },
        "id": "V8VSEJs7us_Y",
        "outputId": "466ac2a4-75f1-4ebd-cd76-4e4e8f55f505"
      },
      "execution_count": null,
      "outputs": [
        {
          "output_type": "execute_result",
          "data": {
            "text/plain": [
              "6"
            ]
          },
          "metadata": {},
          "execution_count": 18
        }
      ]
    },
    {
      "cell_type": "code",
      "source": [
        "m % (k+1)"
      ],
      "metadata": {
        "colab": {
          "base_uri": "https://localhost:8080/"
        },
        "id": "qTApbOP4zCLy",
        "outputId": "e3ff517a-a6c2-479d-c5dc-157cf8ef10f3"
      },
      "execution_count": null,
      "outputs": [
        {
          "output_type": "execute_result",
          "data": {
            "text/plain": [
              "0"
            ]
          },
          "metadata": {},
          "execution_count": 19
        }
      ]
    },
    {
      "cell_type": "markdown",
      "source": [
        "### 답안"
      ],
      "metadata": {
        "id": "xTw59D1f4FCK"
      }
    },
    {
      "cell_type": "code",
      "source": [
        "n, m, k = map(int, input().split())\n",
        "num = list(map(int, input().split()))\n",
        "\n",
        "num.sort()\n",
        "first = num[-1]   # 가장 큰 수\n",
        "second = num[-2]  # 두번째로 큰 수\n",
        "\n",
        "result = 0\n",
        "\n",
        "while True:\n",
        "    for i in range(k):  #가장 큰 수를 k번 더하기\n",
        "        if m == 0:\n",
        "            break\n",
        "        result += first\n",
        "        m -= 1\n",
        "    if m == 0:\n",
        "        break\n",
        "    result += second\n",
        "    m -= 1\n",
        "\n",
        "print(result)"
      ],
      "metadata": {
        "id": "5YGX2VL4zwEL"
      },
      "execution_count": null,
      "outputs": []
    },
    {
      "cell_type": "code",
      "source": [
        "n, m, k = map(int, input().split())\n",
        "num = list(map(int, input().split()))\n",
        "\n",
        "num.sort()\n",
        "first = num[-1]   # 가장 큰 수\n",
        "second = num[-2]  # 두번째로 큰 수\n",
        "\n",
        "count = (m//(k+1))*k+m%(k+1) #가장 큰 수가 더해지는 횟수\n",
        "\n",
        "result = count * first + (m-count) * second \n",
        "\n",
        "print(result)"
      ],
      "metadata": {
        "id": "C_AJHc450KKw"
      },
      "execution_count": null,
      "outputs": []
    },
    {
      "cell_type": "markdown",
      "source": [
        "## 3. 숫자 카드 게임\n",
        "여러 개의 숫자 카드 중에서 가장 높은 숫자가 쓰인 카드 한 장을 뽑는 게임\n",
        "1. 숫자가 쓰인 카드들이 N*M 형태로 놓여 있다. 이때 N은 행의 개수를 의미하며, M은 열의 개수를 의미한다.\n",
        "2. 먼저 뽑고자 하는 카드가 포함되어 있는 행을 선택한다.\n",
        "3. 그다음 선택된 행에 포함된 카드들 중 가장 숫자가 낮은 카드를 뽑아야 한다.\n",
        "4. 따라서 처음에 카드를 골라낼 행을 선택할 때, 이후에 해당 행에서 가장 숫자가 낮은 카드를 뽑을 것을 고려하여 최종적으로 가장 높은 숫자의 카드를 뽑을 수 있도록 전략을 세워야 한다.\n",
        "    - 첫째 줄에 숫자 카드들이 놓인 행의 개수 N과 열의 개수 M이 공백을 기준으로 하여 각각 자연수로 주어진다.\n",
        "    - 둘째 줄부터 N개의 줄에 걸쳐 각 카드에 적힌 숫자가 주어진다.\n",
        "    - 첫째 줄에 게임의 틀에 맞게 선택한 카드에 적힌 숫자를 출력한다.\n",
        "---\n",
        "- 각 행마다 가장 작은 수를 찾은 뒤에 그 수 중에서 가장 큰 수를 찾는 것"
      ],
      "metadata": {
        "id": "O8lAFqm30VAo"
      }
    },
    {
      "cell_type": "code",
      "source": [
        "n, m = map(int, input().split())\n",
        "num = [input().split() for i in range(n)]"
      ],
      "metadata": {
        "colab": {
          "base_uri": "https://localhost:8080/"
        },
        "id": "SxfwS3On4lGD",
        "outputId": "f65ec9fc-805e-4d5d-c3a7-83df4ad6ed2c"
      },
      "execution_count": null,
      "outputs": [
        {
          "name": "stdout",
          "output_type": "stream",
          "text": [
            "3 3\n",
            "3 1 2\n",
            "4 1 4\n",
            "2 2 2\n"
          ]
        }
      ]
    },
    {
      "cell_type": "code",
      "source": [
        "n, m = map(int, input().split())\n",
        "num = [input().split() for i in range(n)]"
      ],
      "metadata": {
        "colab": {
          "base_uri": "https://localhost:8080/"
        },
        "id": "YUiOZ9nk5cCk",
        "outputId": "5400cea6-05c5-4ea6-c051-8ee7a13a8699"
      },
      "execution_count": null,
      "outputs": [
        {
          "name": "stdout",
          "output_type": "stream",
          "text": [
            "2 4\n",
            "7 3 1 8\n",
            "3 3 3 4\n"
          ]
        }
      ]
    },
    {
      "cell_type": "markdown",
      "source": [
        "### 답안"
      ],
      "metadata": {
        "id": "PKsx00qcEzz0"
      }
    },
    {
      "cell_type": "code",
      "source": [
        "n, m = map(int, input().split())\n",
        "\n",
        "result = 0\n",
        "for i in range(n):\n",
        "    data = list(map(int, input().split()))\n",
        "    min_value = min(data)\n",
        "    result = max(result, min_value)\n",
        "\n",
        "print(result)"
      ],
      "metadata": {
        "colab": {
          "base_uri": "https://localhost:8080/"
        },
        "id": "LXUjS_gaxtVU",
        "outputId": "e5d7974d-c7fa-4b3b-8207-eef5e2348951"
      },
      "execution_count": null,
      "outputs": [
        {
          "output_type": "stream",
          "name": "stdout",
          "text": [
            "2 4\n",
            "7 3 1 8\n",
            "3 3 3 4\n",
            "3\n"
          ]
        }
      ]
    },
    {
      "cell_type": "code",
      "source": [
        "n, m = map(int, input().split())\n",
        "\n",
        "result = 0\n",
        "for i in range(n):\n",
        "    data = list(map(int, input().split()))\n",
        "    min_value = 10001\n",
        "    for a in data:\n",
        "        min_value = min(min_value, a)\n",
        "    result = max(result, min_value)\n",
        "\n",
        "print(result)"
      ],
      "metadata": {
        "colab": {
          "base_uri": "https://localhost:8080/"
        },
        "id": "TettW4uVyDtK",
        "outputId": "1293731f-cf1c-4bdf-f259-c4f9e95357f7"
      },
      "execution_count": null,
      "outputs": [
        {
          "output_type": "stream",
          "name": "stdout",
          "text": [
            "2 4\n",
            "7 3 1 8\n",
            "3 3 3 4\n",
            "3\n"
          ]
        }
      ]
    },
    {
      "cell_type": "markdown",
      "source": [
        "## 4. 1이 될 때까지\n",
        "- 어떠한 수 N이 1이 될 때까지 다음의 두 과정 중 하나를 반복적으로 선택하여 수행하려고 한다. 단, 두 번째 연산은 N이 K로 나누어 떨어질 때만 선택할 수 있다.\n",
        "1. N에서 1을 뺀다.\n",
        "2. N을 K로 나눈다.\n",
        "- N과 K가 주어질 때 N이 1이 될 때까지 1번 혹은 2번의 과정을 수행해야 하는 최소 횟수를 구하는 프로그램을 작성하시오.\n",
        "    - 첫째 줄에 N과 K가 공백으로 구분되며 각각 자연수로 주어진다. 이때 입력으로 주어지는 N은 항상 K보다 크거나 같다.\n",
        "    - 첫째 줄에 N이 1이 될 때까지 1번 혹은 2번의 과정을 수행해야 하는 횟수의 최솟값을 출력한다.\n"
      ],
      "metadata": {
        "id": "eNFpKpMYy7uS"
      }
    },
    {
      "cell_type": "code",
      "source": [
        "n, k = map(int, input().split())"
      ],
      "metadata": {
        "colab": {
          "base_uri": "https://localhost:8080/"
        },
        "id": "ed574NrYyW6S",
        "outputId": "8b0384a4-edda-4e8f-8692-1682d7a1a157"
      },
      "execution_count": null,
      "outputs": [
        {
          "name": "stdout",
          "output_type": "stream",
          "text": [
            "25 5\n"
          ]
        }
      ]
    },
    {
      "cell_type": "code",
      "source": [
        "cnt = 0\n",
        "\n",
        "while True:\n",
        "    if n == 1:\n",
        "        break\n",
        "    elif n % k == 0:\n",
        "        n = int(n / k)\n",
        "        cnt += 1\n",
        "    else: \n",
        "        n -= 1\n",
        "        cnt += 1\n",
        "\n",
        "print(cnt)"
      ],
      "metadata": {
        "colab": {
          "base_uri": "https://localhost:8080/"
        },
        "id": "ISK7tn37z0Ql",
        "outputId": "64f0dce5-0bd1-42cb-a7ed-04659768bd20"
      },
      "execution_count": null,
      "outputs": [
        {
          "output_type": "stream",
          "name": "stdout",
          "text": [
            "2\n"
          ]
        }
      ]
    },
    {
      "cell_type": "markdown",
      "source": [
        "### 답안 예시"
      ],
      "metadata": {
        "id": "lEXbrvTp1x_f"
      }
    },
    {
      "cell_type": "code",
      "source": [
        "n, k = map(int, input().split())\n",
        "result = 0\n",
        "\n",
        "while n >= k:\n",
        "    while n % k != 0:\n",
        "        n -= 1\n",
        "        result += 1\n",
        "    n //= k\n",
        "    result += 1\n",
        "while n > 1:\n",
        "    n -= 1\n",
        "    result += 1\n",
        "\n",
        "print(result)"
      ],
      "metadata": {
        "colab": {
          "base_uri": "https://localhost:8080/"
        },
        "id": "Yr8-6ZtN1e3a",
        "outputId": "a67069c0-d60c-4ce6-8016-3dbe147f943a"
      },
      "execution_count": null,
      "outputs": [
        {
          "output_type": "stream",
          "name": "stdout",
          "text": [
            "25 5\n",
            "2\n"
          ]
        }
      ]
    },
    {
      "cell_type": "code",
      "source": [
        "n, k = map(int, input().split())\n",
        "result = 0\n",
        "\n",
        "while True:\n",
        "    target = (n // k) * k\n",
        "    result += (n - target)\n",
        "    n = target\n",
        "\n",
        "    if n < k:\n",
        "        break\n",
        "    result += 1\n",
        "    n // k\n",
        "\n",
        "result += (n - 1)\n",
        "print(result)"
      ],
      "metadata": {
        "id": "cNKepvnu2MiZ"
      },
      "execution_count": null,
      "outputs": []
    },
    {
      "cell_type": "markdown",
      "source": [
        "# PART 3. 기출문제\n",
        "## 1. 모험가 길드\n",
        "공포도가 X인 모험가는 반드시 X명 이상으로 구성한 모험가 그룹에 참여해야 여행을 떠날 수 있다. 동빈이는 최대 몇 개의 모험가 그룹을 만들 수 있는가?\n",
        "- 첫째 줄에 모험가의 수 N이 주어진다.\n",
        "- 둘째 줄에 각 모험가의 공포도의 값을 N 이하의 자연수로 주어지며, 각 자연수는 공백으로 구분한다.\n",
        "- 여행을 떠날 수 있는 그룹 수의 최댓값을 출력한다."
      ],
      "metadata": {
        "id": "V_ZzHDh13K6g"
      }
    },
    {
      "cell_type": "code",
      "source": [
        "n = int(input())\n",
        "num = list(map(int, input().split()))"
      ],
      "metadata": {
        "colab": {
          "base_uri": "https://localhost:8080/"
        },
        "id": "jHToCr7F3dva",
        "outputId": "96b53e39-f2db-4331-f86e-b85747cc7762"
      },
      "execution_count": null,
      "outputs": [
        {
          "name": "stdout",
          "output_type": "stream",
          "text": [
            "5\n",
            "2 3 1 2 2\n"
          ]
        }
      ]
    },
    {
      "cell_type": "code",
      "source": [
        "num_set = set(num)\n",
        "uq_num = list(num_set)  # unique"
      ],
      "metadata": {
        "id": "Yed8QI4UBQ4u"
      },
      "execution_count": null,
      "outputs": []
    },
    {
      "cell_type": "code",
      "source": [
        "uq_num"
      ],
      "metadata": {
        "colab": {
          "base_uri": "https://localhost:8080/"
        },
        "id": "LSJI1A4RBQ0u",
        "outputId": "3dcac783-c21a-4e63-d022-ed04ebc628df"
      },
      "execution_count": null,
      "outputs": [
        {
          "output_type": "execute_result",
          "data": {
            "text/plain": [
              "[1, 2, 3]"
            ]
          },
          "metadata": {},
          "execution_count": 75
        }
      ]
    },
    {
      "cell_type": "code",
      "source": [
        "num"
      ],
      "metadata": {
        "colab": {
          "base_uri": "https://localhost:8080/"
        },
        "id": "L7sKeefsDYcH",
        "outputId": "a33c3d2a-823a-430b-f943-f43171568d82"
      },
      "execution_count": null,
      "outputs": [
        {
          "output_type": "execute_result",
          "data": {
            "text/plain": [
              "[2, 3, 1, 2, 2]"
            ]
          },
          "metadata": {},
          "execution_count": 76
        }
      ]
    },
    {
      "cell_type": "code",
      "source": [
        "for i in uq_num:\n",
        "    num.remove(i)\n",
        "print(num)"
      ],
      "metadata": {
        "colab": {
          "base_uri": "https://localhost:8080/"
        },
        "id": "lmRfugEWDGaV",
        "outputId": "aef45c5e-9b45-4827-ad86-6381a61650ce"
      },
      "execution_count": null,
      "outputs": [
        {
          "output_type": "stream",
          "name": "stdout",
          "text": [
            "[2, 2]\n"
          ]
        }
      ]
    },
    {
      "cell_type": "code",
      "source": [],
      "metadata": {
        "id": "7h70moBQqvoL"
      },
      "execution_count": null,
      "outputs": []
    },
    {
      "cell_type": "markdown",
      "source": [
        "### 답안"
      ],
      "metadata": {
        "id": "BVKOZMBzEfr8"
      }
    },
    {
      "cell_type": "code",
      "source": [
        "n = int(input())\n",
        "num = list(map(int, input().split()))\n",
        "\n",
        "num.sort()\n",
        "\n",
        "result = 0 #총 그룹의 수\n",
        "count = 0 #현재 그룹에 포함된 모험가의 수\n",
        "\n",
        "for i in data: #공포도를 낮은 것부터 하나씩 확인하며\n",
        "    count += 1 #현재 그룹에 해당 모험가를 포함시키기\n",
        "    if count >= i : #현재 그룹에 포함된 모험가의 수가 현재의 공포도 이상이라면, 그룹 결성\n",
        "        result += 1 #총 그룹의 수 증가시키기\n",
        "        count = 0 #현재 그룹에 포함된 모험가의 수 초기화\n",
        "\n",
        "print(result"
      ],
      "metadata": {
        "id": "6_jHq_bKDrcG"
      },
      "execution_count": null,
      "outputs": []
    },
    {
      "cell_type": "code",
      "source": [
        "# 5 / 2 3 1 2 2 -> 2\n",
        "# 5 / 1 2 2 3 3 -> "
      ],
      "metadata": {
        "id": "YvzdGw6J5X8i"
      },
      "execution_count": null,
      "outputs": []
    },
    {
      "cell_type": "markdown",
      "source": [
        "## 2. 곱하기 혹은 더하기\n",
        "각 자리가 숫자로만 이루어진 문자열 S가 주어졌을 때, 왼쪽부터 오른쪽으로 하나씩 모든 숫자를 확인하며 숫자 사이에 'x' 혹은 '+' 연산자를 넣어 결과적으로 만들어질 수 있는 가장 큰 수를 구하는 프로그램을 작성하세요.\n",
        "- 첫째 줄에 여러 개의 숫자로 구성된 하나의 문자열 S가 주어진다.\n",
        "- 첫째 줄에 만들어질 수 있는 가장 큰 수를 출력한다."
      ],
      "metadata": {
        "id": "Q7Gq9yUi3Tzc"
      }
    },
    {
      "cell_type": "code",
      "source": [
        "s = str(input())"
      ],
      "metadata": {
        "colab": {
          "base_uri": "https://localhost:8080/"
        },
        "id": "zKJnWl1U3KWR",
        "outputId": "d656a2bf-bf4d-4b3a-d48c-09dc9c47917c"
      },
      "execution_count": 1,
      "outputs": [
        {
          "name": "stdout",
          "output_type": "stream",
          "text": [
            "02984\n"
          ]
        }
      ]
    },
    {
      "cell_type": "code",
      "source": [
        "result = int(s[0])\n",
        "\n",
        "for i in range(len(s)-1):\n",
        "    '''if result == 0:\n",
        "        result = int(s[0]) + int(s[1])\n",
        "        result *= int(s[i+3])'''\n",
        "    result *= int(s[i+1])\n",
        "print(result)"
      ],
      "metadata": {
        "colab": {
          "base_uri": "https://localhost:8080/"
        },
        "id": "Ex6EVvu35rta",
        "outputId": "b8f3daf3-5511-4e4f-9f6c-3a6065ffa799"
      },
      "execution_count": null,
      "outputs": [
        {
          "output_type": "stream",
          "name": "stdout",
          "text": [
            "0\n"
          ]
        }
      ]
    },
    {
      "cell_type": "code",
      "source": [
        "result = 0\n",
        "\n",
        "for i in s:\n",
        "    if result == 0:\n",
        "        result += int(i)\n",
        "    elif int(i) == 1:\n",
        "        result += int(i)\n",
        "    elif int(i) == 0:\n",
        "        result += int(i)\n",
        "    else:\n",
        "        result *= int(i)\n",
        "\n",
        "print(result)"
      ],
      "metadata": {
        "colab": {
          "base_uri": "https://localhost:8080/"
        },
        "id": "a37L5ELXqdkD",
        "outputId": "f0bd85d3-279b-4768-a7cd-d8f6ea7f9ca0"
      },
      "execution_count": 4,
      "outputs": [
        {
          "output_type": "stream",
          "name": "stdout",
          "text": [
            "576\n"
          ]
        }
      ]
    },
    {
      "cell_type": "markdown",
      "source": [
        "### 답안"
      ],
      "metadata": {
        "id": "b1ej412WEkHj"
      }
    },
    {
      "cell_type": "code",
      "source": [
        "s = list(input()) # s = input() 도 가능\n",
        "result = 0\n",
        "\n",
        "for i in s:\n",
        "    if result == 0:\n",
        "        result += int(i)\n",
        "    elif int(i) == 1:\n",
        "        result += int(i)\n",
        "    elif int(i) == 0:\n",
        "        result += int(i)\n",
        "    else:\n",
        "        result *= int(i)\n",
        "\n",
        "print(result)"
      ],
      "metadata": {
        "id": "nkMY4IefEluO"
      },
      "execution_count": null,
      "outputs": []
    },
    {
      "cell_type": "code",
      "source": [
        "data = input()\n",
        "\n",
        "#첫 번째 문자를 숫자로 변경하여 대입\n",
        "result = int(data[0])\n",
        "for i in range(1, len(data)):\n",
        "    #두 수 중에서 하나라도 '0' 혹은 '1'인 경우, 곱하기보다는 더하기 수행\n",
        "    num = int(data[i])\n",
        "    if num <= 1 or result <= 1 :\n",
        "        result += num\n",
        "    else:\n",
        "        result += num\n",
        "\n",
        "print(result)"
      ],
      "metadata": {
        "id": "CncXp9EyEpYx"
      },
      "execution_count": null,
      "outputs": []
    },
    {
      "cell_type": "code",
      "source": [
        "# 02984 -> 576\n",
        "# 567 -> 210\n",
        "# 2809 -> 2*8*9"
      ],
      "metadata": {
        "id": "aakNvUDg2nqh"
      },
      "execution_count": null,
      "outputs": []
    },
    {
      "cell_type": "markdown",
      "source": [
        "## 3. 문자열 뒤집기"
      ],
      "metadata": {
        "id": "t5YhJIjFt51w"
      }
    },
    {
      "cell_type": "code",
      "source": [
        "s = str(input())"
      ],
      "metadata": {
        "colab": {
          "base_uri": "https://localhost:8080/"
        },
        "id": "hCxBkKn_t-Og",
        "outputId": "2fdc3db6-ad9e-4972-d699-ca3679383050"
      },
      "execution_count": 38,
      "outputs": [
        {
          "name": "stdout",
          "output_type": "stream",
          "text": [
            "0001100\n"
          ]
        }
      ]
    },
    {
      "cell_type": "code",
      "source": [
        "cnt = 0\n",
        "length = len(s)\n",
        "\n",
        "for i in s:\n",
        "    if i == '0':\n",
        "        cnt += 1\n",
        "print(cnt)   # 0의 개수"
      ],
      "metadata": {
        "colab": {
          "base_uri": "https://localhost:8080/"
        },
        "id": "CQzxl-H6ul-Z",
        "outputId": "e3112354-affa-4a19-de4e-75231c901e1d"
      },
      "execution_count": 46,
      "outputs": [
        {
          "output_type": "stream",
          "name": "stdout",
          "text": [
            "5\n"
          ]
        }
      ]
    },
    {
      "cell_type": "code",
      "source": [
        "result = 0\n",
        "\n",
        "#0의 개수가 1의 개수보다 많다면 --> 문자열을 0으로 만들어줌\n",
        "if cnt >= length * 1/2:  \n",
        "    for i in s:\n",
        "        if int(i) == 1:\n",
        "            i = '0'\n",
        "            result += 1\n",
        "\n",
        "# 문자열을 1로 만들어 줌\n",
        "else:\n",
        "\n",
        "\n",
        "\n",
        "print(result)"
      ],
      "metadata": {
        "id": "3n0Uz4wIwduE"
      },
      "execution_count": null,
      "outputs": []
    },
    {
      "cell_type": "code",
      "source": [
        "0110100\n",
        "0000100\n",
        "0000000"
      ],
      "metadata": {
        "id": "A5QHiZD-wdrj"
      },
      "execution_count": null,
      "outputs": []
    },
    {
      "cell_type": "code",
      "source": [
        "0101000\n",
        "0001000\n",
        "0000000"
      ],
      "metadata": {
        "id": "fJaQFmzvvFKt"
      },
      "execution_count": null,
      "outputs": []
    },
    {
      "cell_type": "code",
      "source": [
        "result = 0\n",
        "if cnt >= length * 1/2:\n",
        "    for i in range(length):\n",
        "        s[i] == s[i+1]:\n",
        "        \n",
        "\n",
        "print(result)"
      ],
      "metadata": {
        "colab": {
          "base_uri": "https://localhost:8080/"
        },
        "id": "4yEmeayLwUb3",
        "outputId": "bb82b633-8c81-49b9-8052-f11e249be4e2"
      },
      "execution_count": 37,
      "outputs": [
        {
          "output_type": "stream",
          "name": "stdout",
          "text": [
            "3\n"
          ]
        }
      ]
    }
  ]
}