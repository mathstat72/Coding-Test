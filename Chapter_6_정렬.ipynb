{
  "nbformat": 4,
  "nbformat_minor": 0,
  "metadata": {
    "colab": {
      "provenance": [],
      "authorship_tag": "ABX9TyPlrc1o4aR38n4BtJd7NOtE",
      "include_colab_link": true
    },
    "kernelspec": {
      "name": "python3",
      "display_name": "Python 3"
    },
    "language_info": {
      "name": "python"
    }
  },
  "cells": [
    {
      "cell_type": "markdown",
      "metadata": {
        "id": "view-in-github",
        "colab_type": "text"
      },
      "source": [
        "<a href=\"https://colab.research.google.com/github/mathstat72/Coding-Test/blob/main/Chapter_6_%EC%A0%95%EB%A0%AC.ipynb\" target=\"_parent\"><img src=\"https://colab.research.google.com/assets/colab-badge.svg\" alt=\"Open In Colab\"/></a>"
      ]
    },
    {
      "cell_type": "markdown",
      "source": [
        "# [실전문제] 2. 위에서 아래로\n",
        "하나의 수열에는 다양한 수가 존재한다. 이러한 수는 크기에 상관없이 나열되어 있다. 이 수를 큰 수부터 작은 수의 순서로 정렬해야 한다. 수열을 내림차순으로 정렬하는 프로그램을 만드시오.\n",
        "- 첫째 줄에 수열에 속해 있는 수의 개수 N이 주어진다.\n",
        "- 둘째 줄부터 N+1 번째 줄까지 N개의 수가 입력된다. 수의 범위는 1이상 100,000 이하의 자연수이다.\n",
        "- 입력으로 주어진 수열이 내림차순으로 정렬된 결과를 공백으로 구분하여 출력한다. 동일한 수의 순서는 자유롭게 출력해도 된다."
      ],
      "metadata": {
        "id": "cmBf8FaxL6-A"
      }
    },
    {
      "cell_type": "code",
      "source": [
        "n = int(input())\n",
        "\n",
        "array = []\n",
        "for i in range(n):\n",
        "    array.append(int(input()))"
      ],
      "metadata": {
        "colab": {
          "base_uri": "https://localhost:8080/"
        },
        "id": "NC0WGg_9L6tG",
        "outputId": "1a1e8038-97ba-4b65-cc37-b5d289914af2"
      },
      "execution_count": 29,
      "outputs": [
        {
          "name": "stdout",
          "output_type": "stream",
          "text": [
            "15\n",
            "27\n",
            "12\n"
          ]
        }
      ]
    },
    {
      "cell_type": "code",
      "source": [
        "array"
      ],
      "metadata": {
        "colab": {
          "base_uri": "https://localhost:8080/"
        },
        "id": "WBWI5d6xL6pz",
        "outputId": "786fce6d-02e7-4f2c-8996-d4c0b8ab964d"
      },
      "execution_count": 30,
      "outputs": [
        {
          "output_type": "execute_result",
          "data": {
            "text/plain": [
              "[15, 27, 12]"
            ]
          },
          "metadata": {},
          "execution_count": 30
        }
      ]
    },
    {
      "cell_type": "code",
      "source": [
        "array = sorted(array, reverse=True)\n",
        "\n",
        "for i in array:\n",
        "    print(i, end=' ')"
      ],
      "metadata": {
        "colab": {
          "base_uri": "https://localhost:8080/"
        },
        "id": "31OLK5AUL6dG",
        "outputId": "c337fb20-b4c8-4f16-e323-567024652096"
      },
      "execution_count": 34,
      "outputs": [
        {
          "output_type": "stream",
          "name": "stdout",
          "text": [
            "27 15 12 "
          ]
        }
      ]
    },
    {
      "cell_type": "markdown",
      "source": [
        "---\n",
        "- 최종 코드 정리"
      ],
      "metadata": {
        "id": "kdsdGHvEOkWk"
      }
    },
    {
      "cell_type": "code",
      "source": [
        "n = int(input())\n",
        "\n",
        "array = []\n",
        "for i in range(n):\n",
        "    array.append(int(input()))\n",
        "    \n",
        "#정렬 라이브러리 이용\n",
        "array = sorted(array, reverse=True)\n",
        "\n",
        "for i in array:\n",
        "    print(i, end=' ')"
      ],
      "metadata": {
        "colab": {
          "base_uri": "https://localhost:8080/"
        },
        "id": "jqiT2TAYOj6q",
        "outputId": "7debbf2e-e0bd-488e-920d-c57c15625b52"
      },
      "execution_count": 35,
      "outputs": [
        {
          "output_type": "stream",
          "name": "stdout",
          "text": [
            "3\n",
            "15\n",
            "27\n",
            "12\n",
            "27 15 12 "
          ]
        }
      ]
    },
    {
      "cell_type": "markdown",
      "source": [
        "# [실전문제] 3. 성적이 낮은 순서로 학생 출력하기\n",
        "N명의 학생 정보가 있다. 학생 정보는 학생의 이름과 학생의 성적으로 구분된다. 각 학생의 이름과 성적 정보가 주어졌을 때 성적이 낮은 순서대로 학생의 이름을 출력하는 프로그램을 작성하시오.\n",
        "- 첫 번째 줄에 학생의 수 N이 입력된다.\n",
        "- 두 번째 줄부터 N+1 번째 줄에는 학생의 이름을 나타내는 문자열 A와 학생의 성적을 나타내는 정수 B가 공백으로 구분되어 입력된다. 문자열 A의 길이와 학생의 성적은 100 이하의 자연수이다.\n",
        "- 모든 학생의 이름을 성적이 낮은 순서대로 출력한다. 성적이 동일한 학생들의 순서는 자유롭게 출력해도 괜찮다."
      ],
      "metadata": {
        "id": "AeAmtZCgF92H"
      }
    },
    {
      "cell_type": "code",
      "execution_count": 2,
      "metadata": {
        "colab": {
          "base_uri": "https://localhost:8080/"
        },
        "id": "vMk2kBXlFwz6",
        "outputId": "10014f5f-8e4d-48ea-cd6d-76d57c2b701c"
      },
      "outputs": [
        {
          "name": "stdout",
          "output_type": "stream",
          "text": [
            "2\n",
            "홍길동 95\n",
            "이순신 77\n"
          ]
        }
      ],
      "source": [
        "n = int(input())\n",
        "student = [input().split() for i in range(n)]"
      ]
    },
    {
      "cell_type": "code",
      "source": [
        "student"
      ],
      "metadata": {
        "colab": {
          "base_uri": "https://localhost:8080/"
        },
        "id": "hyXdGGjuH9SR",
        "outputId": "4c074a6d-d742-4f3b-ea0f-27f3fe3b1716"
      },
      "execution_count": 3,
      "outputs": [
        {
          "output_type": "execute_result",
          "data": {
            "text/plain": [
              "[['홍길동', '95'], ['이순신', '77']]"
            ]
          },
          "metadata": {},
          "execution_count": 3
        }
      ]
    },
    {
      "cell_type": "code",
      "source": [
        "type(student[0][0])"
      ],
      "metadata": {
        "colab": {
          "base_uri": "https://localhost:8080/"
        },
        "id": "qdfcieu6IDEL",
        "outputId": "7fcef120-2917-4f9d-d91b-0d346c4b6b6c"
      },
      "execution_count": 5,
      "outputs": [
        {
          "output_type": "execute_result",
          "data": {
            "text/plain": [
              "str"
            ]
          },
          "metadata": {},
          "execution_count": 5
        }
      ]
    },
    {
      "cell_type": "code",
      "source": [
        "type(student[0][1])"
      ],
      "metadata": {
        "colab": {
          "base_uri": "https://localhost:8080/"
        },
        "id": "E4Apb9wcIeT2",
        "outputId": "580d458c-e2e6-4198-eaf8-2179aa456146"
      },
      "execution_count": 6,
      "outputs": [
        {
          "output_type": "execute_result",
          "data": {
            "text/plain": [
              "str"
            ]
          },
          "metadata": {},
          "execution_count": 6
        }
      ]
    },
    {
      "cell_type": "markdown",
      "source": [
        "- 이렇게 입력하면 점수가 문자열이 됨"
      ],
      "metadata": {
        "id": "m-4vXDENJ4XN"
      }
    },
    {
      "cell_type": "code",
      "source": [
        "n = int(input())\n",
        "\n",
        "array = []\n",
        "for i in range(n):\n",
        "    student = input().split()\n",
        "    array.append((student[0], int(student[1])))"
      ],
      "metadata": {
        "colab": {
          "base_uri": "https://localhost:8080/"
        },
        "id": "8tITf6uqIlaM",
        "outputId": "f39483f2-dc94-4d05-fe71-afe19ab41a81"
      },
      "execution_count": 9,
      "outputs": [
        {
          "name": "stdout",
          "output_type": "stream",
          "text": [
            "2\n",
            "홍길동 95\n",
            "이순신 77\n"
          ]
        }
      ]
    },
    {
      "cell_type": "code",
      "source": [
        "type(array[0][0])"
      ],
      "metadata": {
        "colab": {
          "base_uri": "https://localhost:8080/"
        },
        "id": "d1FLYPUVJUVZ",
        "outputId": "2a6102d4-3033-469b-a3fb-d70081959cb1"
      },
      "execution_count": 12,
      "outputs": [
        {
          "output_type": "execute_result",
          "data": {
            "text/plain": [
              "str"
            ]
          },
          "metadata": {},
          "execution_count": 12
        }
      ]
    },
    {
      "cell_type": "code",
      "source": [
        "type(array[0][1])"
      ],
      "metadata": {
        "colab": {
          "base_uri": "https://localhost:8080/"
        },
        "id": "jdd_j0G4JkL7",
        "outputId": "a54f14cb-5d53-4f8b-8760-1ec4b754dd58"
      },
      "execution_count": 13,
      "outputs": [
        {
          "output_type": "execute_result",
          "data": {
            "text/plain": [
              "int"
            ]
          },
          "metadata": {},
          "execution_count": 13
        }
      ]
    },
    {
      "cell_type": "code",
      "source": [
        "# 키를 이용하여 점수를 기준으로 정렬\n",
        "array = sorted(array, key=lambda student: student[1])"
      ],
      "metadata": {
        "id": "HtBsx6BOJlTX"
      },
      "execution_count": 14,
      "outputs": []
    },
    {
      "cell_type": "code",
      "source": [
        "array"
      ],
      "metadata": {
        "colab": {
          "base_uri": "https://localhost:8080/"
        },
        "id": "EFZ150pcKIij",
        "outputId": "43d50abf-830e-4780-b46a-ae6d0db4e334"
      },
      "execution_count": 15,
      "outputs": [
        {
          "output_type": "execute_result",
          "data": {
            "text/plain": [
              "[('이순신', 77), ('홍길동', 95)]"
            ]
          },
          "metadata": {},
          "execution_count": 15
        }
      ]
    },
    {
      "cell_type": "code",
      "source": [
        "# 성적이 낮은 순서대로 출력\n",
        "for student in array:\n",
        "    print(student[0], end=' ')"
      ],
      "metadata": {
        "colab": {
          "base_uri": "https://localhost:8080/"
        },
        "id": "cRJEctflKJz6",
        "outputId": "58b9a69c-6a6c-4690-ad7b-a79617c5c1c5"
      },
      "execution_count": 16,
      "outputs": [
        {
          "output_type": "stream",
          "name": "stdout",
          "text": [
            "이순신 홍길동 "
          ]
        }
      ]
    },
    {
      "cell_type": "markdown",
      "source": [
        "---\n",
        "- 최종 코드 정리"
      ],
      "metadata": {
        "id": "XbYynYqzKZ86"
      }
    },
    {
      "cell_type": "code",
      "source": [
        "n = int(input())\n",
        "\n",
        "array = []\n",
        "for i in range(n):\n",
        "    student = input().split()\n",
        "    array.append((student[0], int(student[1])))\n",
        "\n",
        "# 키를 이용하여 점수를 기준으로 정렬\n",
        "array = sorted(array, key=lambda student: student[1])\n",
        "\n",
        "# 성적이 낮은 순서대로 출력\n",
        "for student in array:\n",
        "    print(student[0], end=' ')"
      ],
      "metadata": {
        "colab": {
          "base_uri": "https://localhost:8080/"
        },
        "id": "3Nh0a15IKQ7E",
        "outputId": "f04f03ac-cf18-48cf-855e-3124c2326184"
      },
      "execution_count": 17,
      "outputs": [
        {
          "output_type": "stream",
          "name": "stdout",
          "text": [
            "2\n",
            "홍길동 95\n",
            "이순신 77\n",
            "이순신 홍길동 "
          ]
        }
      ]
    },
    {
      "cell_type": "markdown",
      "source": [
        "# [실전문제] 4. 두 배열의 원소 교체\n",
        "- 첫 번째 줄에 n, k가 공백으로 구분되어 입력된다.\n",
        "- 두 번째 줄에 배열 A의 원소들이 공백으로 구분되어 입력된다.\n",
        "- 세 번째 줄에 배열 B의 원소들이 공백으로 구분되어 입력된다.\n",
        "- 최대 K번의 바꿔치기 연산을 수행하여 만들 수 있는 배열 A의 모든 원소의 합의 최댓값을 출력한다."
      ],
      "metadata": {
        "id": "B6Vs59b6PAvm"
      }
    },
    {
      "cell_type": "code",
      "source": [
        "5 3\n",
        "1 2 5 4 3\n",
        "5 5 6 6 5\n",
        "26"
      ],
      "metadata": {
        "id": "pyYgmD4hKqaq"
      },
      "execution_count": null,
      "outputs": []
    },
    {
      "cell_type": "code",
      "source": [
        "n, k = map(int, input().split())\n",
        "a = list(map(int, input().split()))\n",
        "b = list(map(int, input().split()))\n",
        "\n",
        "#정렬\n",
        "a.sort()\n",
        "b.sort(reverse=True)\n",
        "\n",
        "for i in range(k):\n",
        "\n",
        "    # A의 원소가 B의 원소보다 작은 경우 \n",
        "    if a[i] < b[i]:\n",
        "\n",
        "        # 두 원소를 교체\n",
        "        a[i],b[i] = b[i],a[i]\n",
        "\n",
        "    else:      # A의 원소가 B의 원소보다 크거나 같을 때, 반복문 탈출\n",
        "        break\n",
        "\n",
        "print(sum(a))"
      ],
      "metadata": {
        "colab": {
          "base_uri": "https://localhost:8080/"
        },
        "id": "9p3sifURPuPe",
        "outputId": "d14ccc5c-926b-406d-8d18-2db8febfa593"
      },
      "execution_count": 36,
      "outputs": [
        {
          "output_type": "stream",
          "name": "stdout",
          "text": [
            " 5 3\n",
            "1 2 5 4 3\n",
            "5 5 6 6 5\n",
            "26\n"
          ]
        }
      ]
    },
    {
      "cell_type": "code",
      "source": [],
      "metadata": {
        "id": "YcIN1PptQsG5"
      },
      "execution_count": null,
      "outputs": []
    }
  ]
}