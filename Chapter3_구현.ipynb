{
  "nbformat": 4,
  "nbformat_minor": 0,
  "metadata": {
    "colab": {
      "provenance": [],
      "authorship_tag": "ABX9TyPUOJBSW0p8YCIX/QTx1zba",
      "include_colab_link": true
    },
    "kernelspec": {
      "name": "python3",
      "display_name": "Python 3"
    },
    "language_info": {
      "name": "python"
    }
  },
  "cells": [
    {
      "cell_type": "markdown",
      "metadata": {
        "id": "view-in-github",
        "colab_type": "text"
      },
      "source": [
        "<a href=\"https://colab.research.google.com/github/mathstat72/Coding-Test/blob/main/Chapter3_%EA%B5%AC%ED%98%84.ipynb\" target=\"_parent\"><img src=\"https://colab.research.google.com/assets/colab-badge.svg\" alt=\"Open In Colab\"/></a>"
      ]
    },
    {
      "cell_type": "markdown",
      "source": [
        "## 예제 4-1. 상하좌우"
      ],
      "metadata": {
        "id": "eA6gru1r7gnW"
      }
    },
    {
      "cell_type": "code",
      "execution_count": 1,
      "metadata": {
        "colab": {
          "base_uri": "https://localhost:8080/"
        },
        "id": "HRqDWX0HHB8t",
        "outputId": "436bded1-955c-41b7-bad0-30dd4d6a4bfa"
      },
      "outputs": [
        {
          "name": "stdout",
          "output_type": "stream",
          "text": [
            "5\n",
            "R R R U D D\n"
          ]
        }
      ],
      "source": [
        "n = int(input())\n",
        "plans = input().split()"
      ]
    },
    {
      "cell_type": "code",
      "source": [
        "x, y = 1, 1  # 현 위치"
      ],
      "metadata": {
        "id": "lbAZ2r733S-c"
      },
      "execution_count": 3,
      "outputs": []
    },
    {
      "cell_type": "code",
      "source": [
        "# L, R, U, D에 따른 이동 방향\n",
        "dx = [0, 0, -1, 1]\n",
        "dy = [-1, 1, 0, 0]\n",
        "move_types = ['L','R','U','D']"
      ],
      "metadata": {
        "id": "i2c95xYw3eky"
      },
      "execution_count": 4,
      "outputs": []
    },
    {
      "cell_type": "code",
      "source": [
        "for plan in plans:\n",
        "    # 이동 후 좌표 구하기\n",
        "    for i in range(len(move_types)):\n",
        "        if plan == move_types[i]:\n",
        "            nx = x + dx[i]\n",
        "            ny = y + dy[i]\n",
        "    # 공간을 벗어나는 경우 무시\n",
        "    if nx < 1 or ny < 1 or nx > n or ny > n:\n",
        "        continue\n",
        "    # 이동 수행\n",
        "    x, y = nx, ny\n",
        "\n",
        "print(x, y)"
      ],
      "metadata": {
        "colab": {
          "base_uri": "https://localhost:8080/"
        },
        "id": "eDqLSZtO34SE",
        "outputId": "e906014d-019f-4442-de11-3d73f06002e9"
      },
      "execution_count": 5,
      "outputs": [
        {
          "output_type": "stream",
          "name": "stdout",
          "text": [
            "3 4\n"
          ]
        }
      ]
    },
    {
      "cell_type": "markdown",
      "source": [
        "- 코드 정리"
      ],
      "metadata": {
        "id": "UMbVVCkfA4fJ"
      }
    },
    {
      "cell_type": "code",
      "source": [
        "n = int(input())\n",
        "plans = input().split()\n",
        "\n",
        "x, y = 1, 1  # 현 위치\n",
        "\n",
        "# L, R, U, D에 따른 이동 방향\n",
        "dx = [0, 0, -1, 1]\n",
        "dy = [-1, 1, 0, 0]\n",
        "move_types = ['L','R','U','D']\n",
        "\n",
        "for plan in plans:\n",
        "    # 이동 후 좌표 구하기\n",
        "    for i in range(len(move_types)):\n",
        "        if plan == move_types[i]:\n",
        "            nx = x + dx[i]\n",
        "            ny = y + dy[i]\n",
        "    # 공간을 벗어나는 경우 무시\n",
        "    if nx < 1 or ny < 1 or nx > n or ny > n:\n",
        "        continue\n",
        "    # 이동 수행\n",
        "    x, y = nx, ny\n",
        "\n",
        "print(x, y)"
      ],
      "metadata": {
        "id": "K_TqWX94A313"
      },
      "execution_count": null,
      "outputs": []
    },
    {
      "cell_type": "markdown",
      "source": [
        "## 예제 4-2. 시각"
      ],
      "metadata": {
        "id": "gjKzbWf08UVZ"
      }
    },
    {
      "cell_type": "code",
      "source": [
        "n = int(input())"
      ],
      "metadata": {
        "colab": {
          "base_uri": "https://localhost:8080/"
        },
        "id": "YGwk4LBY5KJL",
        "outputId": "72840825-75c5-4460-e4d4-4165f58d3ada"
      },
      "execution_count": 6,
      "outputs": [
        {
          "name": "stdout",
          "output_type": "stream",
          "text": [
            "5\n"
          ]
        }
      ]
    },
    {
      "cell_type": "code",
      "source": [
        "count = 0\n",
        "for i in range(n+1):\n",
        "    for j in range(60):\n",
        "        for k in range(60):\n",
        "            # 매 시각 안에 '3'이 포함되어 있다면 카운트 증가\n",
        "            if '3' in str(i) + str(j) + str(k):\n",
        "                count += 1\n",
        "\n",
        "print(count)"
      ],
      "metadata": {
        "colab": {
          "base_uri": "https://localhost:8080/"
        },
        "id": "YMYKa6Kl9aur",
        "outputId": "d09c4b85-086f-4d0c-dc6a-2aa6bf16e2b9"
      },
      "execution_count": 8,
      "outputs": [
        {
          "output_type": "stream",
          "name": "stdout",
          "text": [
            "11475\n"
          ]
        }
      ]
    },
    {
      "cell_type": "markdown",
      "source": [
        "- 코드 정리"
      ],
      "metadata": {
        "id": "nk0ErkN7A6kH"
      }
    },
    {
      "cell_type": "code",
      "source": [
        "n = int(input())\n",
        "\n",
        "count = 0\n",
        "for i in range(n+1):\n",
        "    for j in range(60):\n",
        "        for k in range(60):\n",
        "            # 매 시각 안에 '3'이 포함되어 있다면 카운트 증가\n",
        "            if '3' in str(i) + str(j) + str(k):\n",
        "                count += 1\n",
        "\n",
        "print(count)"
      ],
      "metadata": {
        "colab": {
          "base_uri": "https://localhost:8080/"
        },
        "id": "ngn7Bg9VAGh5",
        "outputId": "83b16573-03a1-4793-d1c2-d1d717acb5f6"
      },
      "execution_count": 9,
      "outputs": [
        {
          "output_type": "stream",
          "name": "stdout",
          "text": [
            "23\n",
            "43875\n"
          ]
        }
      ]
    },
    {
      "cell_type": "markdown",
      "source": [
        "## 2. 왕실의 나이트"
      ],
      "metadata": {
        "id": "Es0MNEx-BBHD"
      }
    },
    {
      "cell_type": "markdown",
      "source": [
        "> ord(문자)\n",
        "- 하나의 문자를 인자로 받고 해당 문자에 해당하는 유니코드 정수를 반환합니다.\n",
        "- ord('a')를 넣으면 정수 97을 반환합니다."
      ],
      "metadata": {
        "id": "0kAwW4m2D0TA"
      }
    },
    {
      "cell_type": "code",
      "source": [
        "# 현재 나이트의 위치 입력받기\n",
        "coor = input()  #현재 위치 좌표 ex. a1\n",
        "row = int(coor[1])\n",
        "column = int(ord(coor[0])) - int(ord('a')) + 1"
      ],
      "metadata": {
        "colab": {
          "base_uri": "https://localhost:8080/"
        },
        "id": "2HiR44SYAoyJ",
        "outputId": "66c4e619-5bf5-4cc5-ff9c-ecfc55d4fd99"
      },
      "execution_count": 10,
      "outputs": [
        {
          "name": "stdout",
          "output_type": "stream",
          "text": [
            "a1\n"
          ]
        }
      ]
    },
    {
      "cell_type": "code",
      "source": [
        "# 나이트가 이동할 수 있는 8가지 방향 정의\n",
        "steps = [(-2,-1),(-1,-2),(1,-2),(2,-1),(2,1),(1,2),(-1,2),(-2,1)]"
      ],
      "metadata": {
        "id": "465jpOpDEXyd"
      },
      "execution_count": 18,
      "outputs": []
    },
    {
      "cell_type": "code",
      "source": [
        "'''result = 0\n",
        "for step in steps:\n",
        "    new_row = row + step[0]\n",
        "    new_col = column + step[1]\n",
        "    if new_row<1 or new_row>8 or new_col<1 or new_col>8:\n",
        "        result += 1\n",
        "\n",
        "print(result)'''"
      ],
      "metadata": {
        "colab": {
          "base_uri": "https://localhost:8080/"
        },
        "id": "VGnf544-ExNB",
        "outputId": "7e0294cf-6de5-48c4-feb6-9d98e03d1f98"
      },
      "execution_count": 19,
      "outputs": [
        {
          "output_type": "stream",
          "name": "stdout",
          "text": [
            "6\n"
          ]
        }
      ]
    },
    {
      "cell_type": "code",
      "source": [
        "result = 0\n",
        "for step in steps:\n",
        "    new_row = row + step[0]\n",
        "    new_col = column + step[1]\n",
        "    if new_row>=1 and new_row<=8 and new_col>=1 and new_col<=8:\n",
        "        result += 1\n",
        "\n",
        "print(result)"
      ],
      "metadata": {
        "colab": {
          "base_uri": "https://localhost:8080/"
        },
        "id": "rJpWAvBuF_j7",
        "outputId": "297eb702-1e82-4990-fe94-7441fabe6200"
      },
      "execution_count": 20,
      "outputs": [
        {
          "output_type": "stream",
          "name": "stdout",
          "text": [
            "2\n"
          ]
        }
      ]
    },
    {
      "cell_type": "markdown",
      "source": [
        "- 코드 정리"
      ],
      "metadata": {
        "id": "AYwQeTNSGTn1"
      }
    },
    {
      "cell_type": "code",
      "source": [
        "# 현재 나이트의 위치 입력받기\n",
        "coor = input()  #현재 위치 좌표 ex. a1\n",
        "row = int(coor[1])\n",
        "col = int(ord(coor[0])) - int(ord('a')) + 1\n",
        "\n",
        "# 나이트가 이동할 수 있는 8가지 방향 정의\n",
        "steps = [(-2,-1),(-1,-2),(1,-2),(2,-1),(2,1),(1,2),(-1,2),(-2,1)]\n",
        "\n",
        "result = 0\n",
        "for step in steps:\n",
        "    new_row = row + step[0]\n",
        "    new_col = col + step[1]\n",
        "    if new_row>=1 and new_row<=8 and new_col>=1 and new_col<=8:\n",
        "        result += 1\n",
        "\n",
        "print(result)"
      ],
      "metadata": {
        "id": "eob0VFaDGPK1"
      },
      "execution_count": null,
      "outputs": []
    },
    {
      "cell_type": "markdown",
      "source": [],
      "metadata": {
        "id": "ZI2GHJ2HGqV6"
      }
    }
  ]
}