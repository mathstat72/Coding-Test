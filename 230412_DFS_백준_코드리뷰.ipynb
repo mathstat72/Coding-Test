{
  "nbformat": 4,
  "nbformat_minor": 0,
  "metadata": {
    "colab": {
      "provenance": [],
      "authorship_tag": "ABX9TyMB/ZdFx3gHuo0WJ1sH28T3",
      "include_colab_link": true
    },
    "kernelspec": {
      "name": "python3",
      "display_name": "Python 3"
    },
    "language_info": {
      "name": "python"
    }
  },
  "cells": [
    {
      "cell_type": "markdown",
      "metadata": {
        "id": "view-in-github",
        "colab_type": "text"
      },
      "source": [
        "<a href=\"https://colab.research.google.com/github/mathstat72/Coding-Test/blob/main/230412_DFS_%EB%B0%B1%EC%A4%80_%EC%BD%94%EB%93%9C%EB%A6%AC%EB%B7%B0.ipynb\" target=\"_parent\"><img src=\"https://colab.research.google.com/assets/colab-badge.svg\" alt=\"Open In Colab\"/></a>"
      ]
    },
    {
      "cell_type": "markdown",
      "source": [
        "https://www.acmicpc.net/problem/14248"
      ],
      "metadata": {
        "id": "xx-CdGnRGOy2"
      }
    },
    {
      "cell_type": "markdown",
      "source": [
        "> # DFS(Depth-first Search)"
      ],
      "metadata": {
        "id": "QtKDgi2eGSyN"
      }
    },
    {
      "cell_type": "markdown",
      "source": [
        "## [백준] 14248번: 점프 점프\n",
        "\n",
        "영우는 개구리다 개굴개굴개굴\n",
        "\n",
        "영우는 지금 n개의 돌이 일렬로 놓여있는 돌다리에 있다. 그리고 돌다리의 돌에는 숫자가 하나씩 적혀있다. 영우는 이 숫자가 적혀있는 만큼 왼쪽이나 오른쪽으로 점프할 수 있는데, 이때 돌다리 밖으로 나갈 수는 없다.\n",
        "\n",
        "영우는 이 돌다리에서 자기가 방문 가능한 돌들의 개수를 알고 싶어한다. 방문 가능하다는 것은 현재위치에서 다른 돌을 적절히 밟아 해당하는 위치로 이동이 가능하다는 뜻이다.\n",
        "\n",
        "현재 위치가 주어졌을 때, 영우가 방문 가능한 돌들의 개수를 출력하시오.\n",
        "\n",
        "- 첫 번째 줄에는 돌다리의 돌 개수 n이 주어진다.(1≤n≤100,000) 돌의 번호는 왼쪽부터 1번에서 n번이다. 다음 줄에는 그 위치에서 점프할 수 있는 거리 Ai가 주어진다.(1≤Ai≤100,000)\n",
        "- 다음 줄에는 출발점 s가 주어진다.(1≤s≤n)\n",
        "- 영우가 방문 가능한 돌들의 개수를 출력하시오."
      ],
      "metadata": {
        "id": "KNVyQG2SGSvD"
      }
    },
    {
      "cell_type": "code",
      "execution_count": null,
      "metadata": {
        "id": "X8tNd7STFer2"
      },
      "outputs": [],
      "source": []
    }
  ]
}