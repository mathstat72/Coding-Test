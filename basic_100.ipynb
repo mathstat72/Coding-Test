{
  "nbformat": 4,
  "nbformat_minor": 0,
  "metadata": {
    "colab": {
      "provenance": [],
      "authorship_tag": "ABX9TyP0EWNSoZnyJMouKD5Fk2am",
      "include_colab_link": true
    },
    "kernelspec": {
      "name": "python3",
      "display_name": "Python 3"
    },
    "language_info": {
      "name": "python"
    }
  },
  "cells": [
    {
      "cell_type": "markdown",
      "metadata": {
        "id": "view-in-github",
        "colab_type": "text"
      },
      "source": [
        "<a href=\"https://colab.research.google.com/github/mathstat72/Coding-Test/blob/main/basic_100.ipynb\" target=\"_parent\"><img src=\"https://colab.research.google.com/assets/colab-badge.svg\" alt=\"Open In Colab\"/></a>"
      ]
    },
    {
      "cell_type": "markdown",
      "source": [
        "# [코드업] 기초 100제 풀이"
      ],
      "metadata": {
        "id": "ymGVi0n3WNp5"
      }
    },
    {
      "cell_type": "markdown",
      "source": [
        "## 6021 : [기초-입출력] 단어 1개 입력받아 나누어 출력하기(설명)(py)\n",
        "\n",
        "알파벳과 숫자로 이루어진 단어 1개가 입력된다.\n",
        "입력받은 단어의 각 문자를 한 줄에 한 문자씩 분리해 출력한다."
      ],
      "metadata": {
        "id": "X7pgGfAPWX2j"
      }
    },
    {
      "cell_type": "code",
      "execution_count": 3,
      "metadata": {
        "colab": {
          "base_uri": "https://localhost:8080/"
        },
        "id": "SYE-pHc0V4ZV",
        "outputId": "fd401182-a33a-4c74-e897-850b8a5fa9e1"
      },
      "outputs": [
        {
          "output_type": "stream",
          "name": "stdout",
          "text": [
            "Hello\n",
            "H\n",
            "e\n",
            "l\n",
            "l\n",
            "o\n"
          ]
        }
      ],
      "source": [
        "s = input()\n",
        "\n",
        "for i in s:\n",
        "  print(i)\n",
        "\n",
        "''' \n",
        "print(s[0])\n",
        "print(s[1]) ... \n",
        "'''"
      ]
    },
    {
      "cell_type": "markdown",
      "source": [
        "## 6022 : [기초-입출력] 연월일 입력받아 나누어 출력하기(설명)(py)\n",
        "6자리의 연월일(YYMMDD)을 입력받아 나누어 출력해보자."
      ],
      "metadata": {
        "id": "JxCk9JF6ZULH"
      }
    },
    {
      "cell_type": "code",
      "source": [
        "s = input()\n",
        "print(s[0:2], s[2:4], s[4:6])  #sep=' '"
      ],
      "metadata": {
        "colab": {
          "base_uri": "https://localhost:8080/"
        },
        "id": "3hcYzyybYbec",
        "outputId": "dbf8ffda-9bfb-479b-bf94-929030f7630d"
      },
      "execution_count": 6,
      "outputs": [
        {
          "output_type": "stream",
          "name": "stdout",
          "text": [
            "200304\n",
            "20 03 04\n"
          ]
        }
      ]
    },
    {
      "cell_type": "markdown",
      "source": [
        "## 6023 : [기초-입출력] 시분초 입력받아 분만 출력하기(py)\n",
        "시:분:초 형식으로 시간이 입력될 때 분만 출력해보자.\n"
      ],
      "metadata": {
        "id": "Vcc3kr2hanDC"
      }
    },
    {
      "cell_type": "code",
      "source": [
        "y, m, d = input().split(':')\n",
        "print(m)"
      ],
      "metadata": {
        "colab": {
          "base_uri": "https://localhost:8080/"
        },
        "id": "YDFY3EX7aizk",
        "outputId": "a4408324-c70f-484e-eaed-c7403eadd3c6"
      },
      "execution_count": 9,
      "outputs": [
        {
          "output_type": "stream",
          "name": "stdout",
          "text": [
            "17:23:57\n",
            "23\n"
          ]
        }
      ]
    },
    {
      "cell_type": "markdown",
      "source": [
        "## 6024 : [기초-입출력] 단어 2개 입력받아 이어 붙이기(설명)(py)\n",
        "알파벳 문자와 숫자로 이루어진 단어 2개를 입력받아\n",
        "순서대로 붙여 출력하는 프로그램을 작성해보자."
      ],
      "metadata": {
        "id": "dNOAkNDzbCEQ"
      }
    },
    {
      "cell_type": "code",
      "source": [
        "w1, w2 = input().split()\n",
        "print(w1 + w2)"
      ],
      "metadata": {
        "colab": {
          "base_uri": "https://localhost:8080/"
        },
        "id": "L7Ep7CCea7e7",
        "outputId": "75095ff2-4c92-47a5-c85a-2c6666016336"
      },
      "execution_count": 10,
      "outputs": [
        {
          "output_type": "stream",
          "name": "stdout",
          "text": [
            "hello world2\n",
            "helloworld2\n"
          ]
        }
      ]
    },
    {
      "cell_type": "markdown",
      "source": [
        "## 6025 : [기초-값변환] 정수 2개 입력받아 합 계산하기(설명)(py)\n",
        "정수 2개를 입력받아\n",
        "합을 출력하는 프로그램을 작성해보자.\n"
      ],
      "metadata": {
        "id": "qOTe4mxnbjYp"
      }
    },
    {
      "cell_type": "code",
      "source": [
        "a, b = input().split()\n",
        "print(int(a) + int(b))"
      ],
      "metadata": {
        "colab": {
          "base_uri": "https://localhost:8080/"
        },
        "id": "-AQvJLRWbd5K",
        "outputId": "8ea78ff5-4eb9-474a-ff9c-bb86e91f197a"
      },
      "execution_count": 12,
      "outputs": [
        {
          "output_type": "stream",
          "name": "stdout",
          "text": [
            "123 -123\n",
            "0\n"
          ]
        }
      ]
    },
    {
      "cell_type": "markdown",
      "source": [
        "## 6026 : [기초-값변환] 실수 2개 입력받아 합 계산하기(설명)(py)\n",
        "실수 2개를 입력받아\n",
        "합을 출력하는 프로그램을 작성해보자."
      ],
      "metadata": {
        "id": "Z1OEX59kb8cb"
      }
    },
    {
      "cell_type": "code",
      "source": [
        "a = float(input())\n",
        "b = float(input())\n",
        "print(a + b)"
      ],
      "metadata": {
        "colab": {
          "base_uri": "https://localhost:8080/"
        },
        "id": "kZcNU4UPbso7",
        "outputId": "7ddfb53d-2d4f-4a43-b324-d850c55b6c44"
      },
      "execution_count": 16,
      "outputs": [
        {
          "output_type": "stream",
          "name": "stdout",
          "text": [
            ".1\n",
            ".9\n",
            "1.0\n"
          ]
        }
      ]
    },
    {
      "cell_type": "markdown",
      "source": [
        "## 6027 : [기초-출력변환] 10진 정수 입력받아 16진수로 출력하기1(설명)(py)\n",
        "10진수를 입력받아 16진수(hexadecimal)로 출력해보자."
      ],
      "metadata": {
        "id": "cD2xPPTGch_s"
      }
    },
    {
      "cell_type": "code",
      "source": [
        "s = int(input())\n",
        "print('%x'%s) \n",
        "\n",
        " #10진수 형태로 입력받고 %x로 출력하면 16진수(hexadecimal) 소문자로 출력된다.\n",
        " #(%o로 출력하면 8진수(octal) 문자열로 출력된다.)"
      ],
      "metadata": {
        "colab": {
          "base_uri": "https://localhost:8080/"
        },
        "id": "SdXH30h1cHWz",
        "outputId": "ad9251e3-d97e-42af-db3a-0db879a7dde7"
      },
      "execution_count": 17,
      "outputs": [
        {
          "output_type": "stream",
          "name": "stdout",
          "text": [
            "255\n",
            "ff\n"
          ]
        }
      ]
    },
    {
      "cell_type": "markdown",
      "source": [
        "## 6028 : [기초-출력변환] 10진 정수 입력받아 16진수로 출력하기2(설명)(py)\n",
        "10진수를 입력받아 16진수(hexadecimal)로 출력해보자."
      ],
      "metadata": {
        "id": "lyGxK0ocdV_3"
      }
    },
    {
      "cell_type": "code",
      "source": [
        "s = int(input())\n",
        "print('%X'%s) \n",
        "\n",
        "#10진수 형태로 입력받고 %X로 출력하면 16진수(hexadecimal)대문자로 출력된다"
      ],
      "metadata": {
        "colab": {
          "base_uri": "https://localhost:8080/"
        },
        "id": "t3dTVADrdBCt",
        "outputId": "11c490de-91a7-4669-d7d5-b879ce08a3dd"
      },
      "execution_count": 18,
      "outputs": [
        {
          "output_type": "stream",
          "name": "stdout",
          "text": [
            "255\n",
            "FF\n"
          ]
        }
      ]
    },
    {
      "cell_type": "markdown",
      "source": [
        "## 6029 : [기초-값변환] 16진 정수 입력받아 8진수로 출력하기(설명)(py)\n",
        "16진수를 입력받아 8진수(octal)로 출력해보자."
      ],
      "metadata": {
        "id": "iw3uKNj0drKv"
      }
    },
    {
      "cell_type": "code",
      "source": [
        "s = int(input(), 16) #16진수로 인식\n",
        "print('%o'%s)"
      ],
      "metadata": {
        "colab": {
          "base_uri": "https://localhost:8080/"
        },
        "id": "eZsVkt4Adfgy",
        "outputId": "aa43abc5-24be-4acd-9e1b-fafae2092a09"
      },
      "execution_count": 19,
      "outputs": [
        {
          "output_type": "stream",
          "name": "stdout",
          "text": [
            "f\n",
            "17\n"
          ]
        }
      ]
    },
    {
      "cell_type": "markdown",
      "source": [
        "## 6030 : [기초-값변환] 영문자 1개 입력받아 10진수로 변환하기(설명)(py)\n",
        "- 영문자 1개를 입력받아 10진수 유니코드(Unicode) 값으로 출력해보자."
      ],
      "metadata": {
        "id": "uC0ROn-veFsP"
      }
    },
    {
      "cell_type": "code",
      "source": [
        "n = ord(input())  #입력받은 문자를 10진수 유니코드 값으로 변환한 후, n에 저장한다.\n",
        "print(n)"
      ],
      "metadata": {
        "colab": {
          "base_uri": "https://localhost:8080/"
        },
        "id": "YQgzxw5od-bY",
        "outputId": "7477fdd9-e413-4a22-910a-bc1e747fae8a"
      },
      "execution_count": 20,
      "outputs": [
        {
          "output_type": "stream",
          "name": "stdout",
          "text": [
            "A\n",
            "65\n"
          ]
        }
      ]
    },
    {
      "cell_type": "markdown",
      "source": [
        "## 6031 : [기초-값변환] 정수 입력받아 유니코드 문자로 변환하기(설명)(py)\n",
        "10진 정수 1개를 입력받아 유니코드 문자로 출력해보자."
      ],
      "metadata": {
        "id": "q7qFOAv4el34"
      }
    },
    {
      "cell_type": "code",
      "source": [
        "c = int(input())\n",
        "print(chr(c))  #c에 저장되어 있는 정수 값을 유니코드 문자(chracter)로 바꿔 출력한다. \n",
        "\n",
        "#chr( )는 정수값->문자, ord( )는 문자->정수값 형태로 바꿔주는 서로 반대 방향으로 바꾸어 주는 기능을 한다."
      ],
      "metadata": {
        "colab": {
          "base_uri": "https://localhost:8080/"
        },
        "id": "gkdjz2Zqef1H",
        "outputId": "428a0180-79da-4559-80f5-b653dfaf2ee6"
      },
      "execution_count": 23,
      "outputs": [
        {
          "output_type": "stream",
          "name": "stdout",
          "text": [
            "65\n",
            "A\n"
          ]
        }
      ]
    },
    {
      "cell_type": "markdown",
      "source": [
        "## 6032 : [기초-산술연산] 정수 1개 입력받아 부호 바꾸기(설명)(py)\n",
        "입력된 정수의 부호를 바꿔 출력해보자."
      ],
      "metadata": {
        "id": "9r2f4_YqfDF5"
      }
    },
    {
      "cell_type": "code",
      "source": [
        "n = int(input())\n",
        "print(-n)"
      ],
      "metadata": {
        "colab": {
          "base_uri": "https://localhost:8080/"
        },
        "id": "B9FIM8CAevsZ",
        "outputId": "d5c386c1-bada-4818-9212-6f91f6f05c1e"
      },
      "execution_count": 24,
      "outputs": [
        {
          "output_type": "stream",
          "name": "stdout",
          "text": [
            "-1\n",
            "1\n"
          ]
        }
      ]
    },
    {
      "cell_type": "markdown",
      "source": [
        "## 6033 : [기초-산술연산] 문자 1개 입력받아 다음 문자 출력하기(설명)(py)\n",
        "\n",
        "문자 1개를 입력받아 그 다음 문자를 출력해보자.\n",
        "영문자 'A'의 다음 문자는 'B'이고, 숫자 '0'의 다음 문자는 '1'이다.\n"
      ],
      "metadata": {
        "id": "h3Rea-k6fSaR"
      }
    },
    {
      "cell_type": "code",
      "source": [
        "a = ord(input())  #유니코드 값으로 변환\n",
        "print(chr(a+1))   #유니코드 문자로 변환"
      ],
      "metadata": {
        "colab": {
          "base_uri": "https://localhost:8080/"
        },
        "id": "HobsHgg-fOUD",
        "outputId": "36c82c90-39ff-41e9-87de-11d3265cda38"
      },
      "execution_count": 30,
      "outputs": [
        {
          "output_type": "stream",
          "name": "stdout",
          "text": [
            "A\n",
            "B\n"
          ]
        }
      ]
    },
    {
      "cell_type": "markdown",
      "source": [
        "## 6034 : [기초-산술연산] 정수 2개 입력받아 차 계산하기(설명)(py)\n",
        "정수 2개(a, b)를 입력받아 a에서 b를 뺀 차를 출력하는 프로그램을 작성해보자."
      ],
      "metadata": {
        "id": "Bhv33oIHix5D"
      }
    },
    {
      "cell_type": "code",
      "source": [
        "a, b = input().split()\n",
        "print(int(a) - int(b))"
      ],
      "metadata": {
        "colab": {
          "base_uri": "https://localhost:8080/"
        },
        "id": "GeKwD8yYiht1",
        "outputId": "44f53226-6c72-428c-ad3f-6a82af724055"
      },
      "execution_count": 32,
      "outputs": [
        {
          "output_type": "stream",
          "name": "stdout",
          "text": [
            "123 -123\n",
            "246\n"
          ]
        }
      ]
    },
    {
      "cell_type": "markdown",
      "source": [
        "## 6035 : [기초-산술연산] 실수 2개 입력받아 곱 계산하기(설명)(py)\n",
        "실수 2개(f1, f2)를 입력받아 곱을 출력하는 프로그램을 작성해보자."
      ],
      "metadata": {
        "id": "jZsCak7mjafi"
      }
    },
    {
      "cell_type": "code",
      "source": [
        "a, b = input().split()\n",
        "print(float(a)* float(b))"
      ],
      "metadata": {
        "colab": {
          "base_uri": "https://localhost:8080/"
        },
        "id": "lMXStKQ_i-i0",
        "outputId": "ffa8b977-b729-44fe-e2a5-eade6d69e4d2"
      },
      "execution_count": 33,
      "outputs": [
        {
          "output_type": "stream",
          "name": "stdout",
          "text": [
            "0.5 2.0\n",
            "1.0\n"
          ]
        }
      ]
    },
    {
      "cell_type": "markdown",
      "source": [
        "## 6036 : [기초-산술연산] 단어 여러 번 출력하기(설명)(py)\n",
        "단어와 반복 횟수를 입력받아 여러 번 출력해보자."
      ],
      "metadata": {
        "id": "wsrL8laljpw7"
      }
    },
    {
      "cell_type": "code",
      "source": [
        "w, n = input().split()\n",
        "print(w * int(n))"
      ],
      "metadata": {
        "colab": {
          "base_uri": "https://localhost:8080/"
        },
        "id": "Er9AZJ2Ojl8D",
        "outputId": "557849d1-2486-47ed-8534-8bd6c91e88d4"
      },
      "execution_count": 35,
      "outputs": [
        {
          "output_type": "stream",
          "name": "stdout",
          "text": [
            "love 3\n",
            "lovelovelove\n"
          ]
        }
      ]
    },
    {
      "cell_type": "markdown",
      "source": [
        "## 6037 : [기초-산술연산] 문장 여러 번 출력하기(설명)(py)\n",
        "반복 횟수와 문장을 입력받아 여러 번 출력해보자."
      ],
      "metadata": {
        "id": "y5YA3jlkkBZQ"
      }
    },
    {
      "cell_type": "code",
      "source": [
        "n = int(input())\n",
        "w = input()\n",
        "\n",
        "print(w * n)"
      ],
      "metadata": {
        "colab": {
          "base_uri": "https://localhost:8080/"
        },
        "id": "dhwkfQ_sj1sV",
        "outputId": "31444b62-741b-4fdf-8ade-db72cae84512"
      },
      "execution_count": 37,
      "outputs": [
        {
          "output_type": "stream",
          "name": "stdout",
          "text": [
            "3\n",
            "I love CS\n",
            "I love CSI love CSI love CS\n"
          ]
        }
      ]
    },
    {
      "cell_type": "markdown",
      "source": [
        "## 6038 : [기초-산술연산] 정수 2개 입력받아 거듭제곱 계산하기(설명)(py)\n",
        "\n",
        "정수 2개(a, b)를 입력받아\n",
        "a를 b번 곱한 거듭제곱을 출력하는 프로그램을 작성해보자.\n"
      ],
      "metadata": {
        "id": "C-2MW_jvkbW7"
      }
    },
    {
      "cell_type": "code",
      "source": [
        "a, b = input().split()\n",
        "print(int(a) ** int(b))"
      ],
      "metadata": {
        "colab": {
          "base_uri": "https://localhost:8080/"
        },
        "id": "EijUjOxGkOJQ",
        "outputId": "28a288cf-4baa-44b3-86ce-2768e7ba6a3d"
      },
      "execution_count": 38,
      "outputs": [
        {
          "output_type": "stream",
          "name": "stdout",
          "text": [
            "2 10\n",
            "1024\n"
          ]
        }
      ]
    },
    {
      "cell_type": "markdown",
      "source": [
        "## 6039 : [기초-산술연산] 실수 2개 입력받아 거듭제곱 계산하기(py)\n",
        "실수 2개(f1, f2)를 입력받아\n",
        "f1을 f2번 거듭제곱한 값을 출력하는 프로그램을 작성해보자."
      ],
      "metadata": {
        "id": "VSxiyM1jktUG"
      }
    },
    {
      "cell_type": "code",
      "source": [
        "f1, f2 = input().split()\n",
        "print(float(f1) ** float(f2))"
      ],
      "metadata": {
        "colab": {
          "base_uri": "https://localhost:8080/"
        },
        "id": "9NSl5OBtkpt2",
        "outputId": "a8a73d04-dc2e-4062-8bb6-5e959c8ca048"
      },
      "execution_count": 39,
      "outputs": [
        {
          "output_type": "stream",
          "name": "stdout",
          "text": [
            "4.0 2.0\n",
            "16.0\n"
          ]
        }
      ]
    },
    {
      "cell_type": "markdown",
      "source": [
        "## 6040 : [기초-산술연산] 정수 2개 입력받아 나눈 몫 계산하기(설명)(py)\n",
        "- 정수 2개(a, b) 를 입력받아 a를 b로 나눈 몫을 출력해보자."
      ],
      "metadata": {
        "id": "8MT1fBPhlD4V"
      }
    },
    {
      "cell_type": "code",
      "source": [
        "a, b = input().split()\n",
        "print(int(a) // int(b))"
      ],
      "metadata": {
        "colab": {
          "base_uri": "https://localhost:8080/"
        },
        "id": "qzPmxzrzk7a7",
        "outputId": "402ff990-9665-48bd-a1f9-2ea28a141c9f"
      },
      "execution_count": 41,
      "outputs": [
        {
          "output_type": "stream",
          "name": "stdout",
          "text": [
            "10 3\n",
            "3\n"
          ]
        }
      ]
    },
    {
      "cell_type": "markdown",
      "source": [
        "## 6041 : [기초-산술연산] 정수 2개 입력받아 나눈 나머지 계산하기(설명)(py)\n",
        "정수 2개(a, b) 를 입력받아 a를 b로 나눈 나머지를 출력해보자."
      ],
      "metadata": {
        "id": "2zhOkmiYlOAk"
      }
    },
    {
      "cell_type": "code",
      "source": [
        "a, b = input().split()\n",
        "print(int(a) % int(b))"
      ],
      "metadata": {
        "colab": {
          "base_uri": "https://localhost:8080/"
        },
        "id": "b3-xFWmwlKx-",
        "outputId": "0552cd74-50bd-46dc-d2e4-65ddfef0190a"
      },
      "execution_count": 44,
      "outputs": [
        {
          "output_type": "stream",
          "name": "stdout",
          "text": [
            "10 3\n",
            "1\n"
          ]
        }
      ]
    },
    {
      "cell_type": "markdown",
      "source": [
        "## 6042 : [기초-값변환] 실수 1개 입력받아 소숫점이하 자리 변환하기(설명)(py)\n",
        "실수 1개를 입력받아\n",
        "소숫점 이하 두 번째 자리까지의 정확도로 반올림한 값을 출력해보자.\n"
      ],
      "metadata": {
        "id": "gZccm62rlXN0"
      }
    },
    {
      "cell_type": "code",
      "source": [
        "a = float(input())\n",
        "print(round(a, 2))   #print(format(a, \".2f\"))"
      ],
      "metadata": {
        "colab": {
          "base_uri": "https://localhost:8080/"
        },
        "id": "QxAT1XKUlRNz",
        "outputId": "185539bb-6c0a-450b-b5fc-1b890d821d07"
      },
      "execution_count": 46,
      "outputs": [
        {
          "output_type": "stream",
          "name": "stdout",
          "text": [
            "3.141592\n",
            "3.14\n"
          ]
        }
      ]
    },
    {
      "cell_type": "markdown",
      "source": [
        "## 6043 : [기초-산술연산] 실수 2개 입력받아 나눈 결과 계산하기(py)\n",
        "\n",
        "실수 2개(f1, f2)를 입력받아\n",
        "f1 을 f2 로 나눈 값을 출력해보자. 이 때 소숫점 넷째자리에서 반올림하여 무조건 소숫점 셋째 자리까지 출력한다."
      ],
      "metadata": {
        "id": "_trbFbuLnAuy"
      }
    },
    {
      "cell_type": "code",
      "source": [
        "f1, f2 = input().split()\n",
        "print(round(float(f1) / float(f2), 3))  #print(\"{0:.3f}\".format(float))"
      ],
      "metadata": {
        "colab": {
          "base_uri": "https://localhost:8080/"
        },
        "id": "cod0fId4m0X7",
        "outputId": "3ef51898-10bb-4f1a-8def-084455c59ceb"
      },
      "execution_count": 47,
      "outputs": [
        {
          "output_type": "stream",
          "name": "stdout",
          "text": [
            "10.0 3.0\n",
            "3.333\n"
          ]
        }
      ]
    },
    {
      "cell_type": "markdown",
      "source": [
        "## 6044 : [기초-산술연산] 정수 2개 입력받아 자동 계산하기(py)\n",
        "정수 2개(a, b)를 입력받아 합, 차, 곱, 몫, 나머지, 나눈 값을 자동으로 계산해보자.\n",
        "단, b는 0이 아니다."
      ],
      "metadata": {
        "id": "n-oIpEennpOT"
      }
    },
    {
      "cell_type": "code",
      "source": [
        "a, b = input().split()\n",
        "a, b = int(a), int(b)\n",
        "\n",
        "print(a + b)\n",
        "print(a - b)\n",
        "print(a * b)\n",
        "print(a // b)\n",
        "print(a % b)\n",
        "print(round(a / b, 2))"
      ],
      "metadata": {
        "colab": {
          "base_uri": "https://localhost:8080/"
        },
        "id": "dRapgCkvnOkA",
        "outputId": "a904286b-47d8-4291-a577-b042d03ca678"
      },
      "execution_count": 51,
      "outputs": [
        {
          "output_type": "stream",
          "name": "stdout",
          "text": [
            "10 3\n",
            "13\n",
            "7\n",
            "30\n",
            "3\n",
            "1\n",
            "3.33\n"
          ]
        }
      ]
    },
    {
      "cell_type": "markdown",
      "source": [
        "## 6045 : [기초-산술연산] 정수 3개 입력받아 합과 평균 출력하기(설명)(py)\n",
        "\n",
        "정수 3개를 입력받아 합과 평균을 출력해보자."
      ],
      "metadata": {
        "id": "Q55JWHe0odM_"
      }
    },
    {
      "cell_type": "code",
      "source": [
        "a, b, c = input().split()\n",
        "a, b, c = int(a), int(b), int(c)\n",
        "sum = a+b+c\n",
        "avg = sum/3\n",
        "print(sum, format(avg, \".2f\"))"
      ],
      "metadata": {
        "colab": {
          "base_uri": "https://localhost:8080/"
        },
        "id": "MXCLhGEeoKsa",
        "outputId": "f62cfd81-9929-4c9e-9c13-05c8a7e3f590"
      },
      "execution_count": 56,
      "outputs": [
        {
          "output_type": "stream",
          "name": "stdout",
          "text": [
            "1 2 3\n",
            "6 2.00\n"
          ]
        }
      ]
    },
    {
      "cell_type": "markdown",
      "source": [
        "## 6046 : [기초-비트시프트연산] 정수 1개 입력받아 2배 곱해 출력하기(설명)(py)\n",
        "정수 1개를 입력받아 2배 곱해 출력해보자.\n",
        "- 정수를 2배로 곱하거나 나누어 계산해 주는 비트단위시프트연산자 <<, >>를 이용할 수 있다"
      ],
      "metadata": {
        "id": "01o1O2HZpX_b"
      }
    },
    {
      "cell_type": "code",
      "source": [
        "a = int(input())\n",
        "print(a<<1)  #a를 2배 한 값 출력"
      ],
      "metadata": {
        "colab": {
          "base_uri": "https://localhost:8080/"
        },
        "id": "e_96Vz9qo50o",
        "outputId": "2377e452-2f4f-4557-a35d-e7102e179e83"
      },
      "execution_count": 57,
      "outputs": [
        {
          "output_type": "stream",
          "name": "stdout",
          "text": [
            "1024\n",
            "2048\n"
          ]
        }
      ]
    },
    {
      "cell_type": "markdown",
      "source": [
        "## 6047 : [기초-비트시프트연산] 2의 거듭제곱 배로 곱해 출력하기(설명)(py)\n",
        "정수 2개(a, b)를 입력받아 a를 2^b배 곱한 값으로 출력해보자.\n",
        "0 <= a <= 10, 0 <= b <= 10"
      ],
      "metadata": {
        "id": "wR9sRQzfp-9g"
      }
    },
    {
      "cell_type": "code",
      "source": [
        "a, b = input().split()\n",
        "a, b = int(a), int(b)\n",
        "\n",
        "print(a<<b)  #a를 2^b배 곱한 값 출력"
      ],
      "metadata": {
        "colab": {
          "base_uri": "https://localhost:8080/"
        },
        "id": "0869L20qqSIk",
        "outputId": "3fd8e9b7-0b1b-4544-fb8c-46e944bb0019"
      },
      "execution_count": 60,
      "outputs": [
        {
          "output_type": "stream",
          "name": "stdout",
          "text": [
            "1 3\n",
            "8\n"
          ]
        }
      ]
    },
    {
      "cell_type": "markdown",
      "source": [
        "## 6048 : [기초-비교연산] 정수 2개 입력받아 비교하기1(설명)(py)\n",
        "두 정수(a, b)를 입력받아\n",
        "a가 b보다 작으면 True 를, a가 b보다 크거나 같으면 False 를 출력하는 프로그램을 작성해보자."
      ],
      "metadata": {
        "id": "E-2cCM23qvHz"
      }
    },
    {
      "cell_type": "code",
      "source": [
        "a, b = input().split()\n",
        "a, b = int(a), int(b)\n",
        "\n",
        "print(a < b)"
      ],
      "metadata": {
        "colab": {
          "base_uri": "https://localhost:8080/"
        },
        "id": "SSEx8SBgqVIg",
        "outputId": "5a50e8e5-d8a8-4c13-bee2-abb86e353c2f"
      },
      "execution_count": 61,
      "outputs": [
        {
          "output_type": "stream",
          "name": "stdout",
          "text": [
            "1 9\n",
            "True\n"
          ]
        }
      ]
    },
    {
      "cell_type": "markdown",
      "source": [
        "## 6049 : [기초-비교연산] 정수 2개 입력받아 비교하기2(설명)(py)\n",
        "두 정수(a, b)를 입력받아\n",
        "a와 b의 값이 같으면 True 를, 같지 않으면 False 를 출력하는 프로그램을 작성해보자."
      ],
      "metadata": {
        "id": "2asAGL1ArB1X"
      }
    },
    {
      "cell_type": "code",
      "source": [
        "a, b = input().split()\n",
        "a, b = int(a), int(b)\n",
        "\n",
        "print(a == b)"
      ],
      "metadata": {
        "colab": {
          "base_uri": "https://localhost:8080/"
        },
        "id": "XS-dKWbLq6eL",
        "outputId": "8aaf2f8c-2122-4dac-cdd3-9a0d8f5f2e6a"
      },
      "execution_count": 63,
      "outputs": [
        {
          "output_type": "stream",
          "name": "stdout",
          "text": [
            "0 0\n",
            "True\n"
          ]
        }
      ]
    },
    {
      "cell_type": "markdown",
      "source": [
        "## 6050 : [기초-비교연산] 정수 2개 입력받아 비교하기3(설명)(py)\n",
        "\n",
        "두 정수(a, b)를 입력받아\n",
        "b의 값이 a의 값 보다 크거나 같으면 True 를, 같지 않으면 False 를 출력하는 프로그램을 작성해보자."
      ],
      "metadata": {
        "id": "RLSI3wQGrM8N"
      }
    },
    {
      "cell_type": "code",
      "source": [
        "a, b = input().split()\n",
        "a, b = int(a), int(b)\n",
        "\n",
        "print(b >= a)"
      ],
      "metadata": {
        "colab": {
          "base_uri": "https://localhost:8080/"
        },
        "id": "uyWlMO-prG0A",
        "outputId": "533827a8-75e7-4112-e9f5-c62e27689c67"
      },
      "execution_count": 64,
      "outputs": [
        {
          "output_type": "stream",
          "name": "stdout",
          "text": [
            "0 -1\n",
            "False\n"
          ]
        }
      ]
    },
    {
      "cell_type": "markdown",
      "source": [
        "## 6051 : [기초-비교연산] 정수 2개 입력받아 비교하기4(설명)(py)\n",
        "\n",
        "두 정수(a, b)를 입력받아\n",
        "a의 값이 b의 값과 서로 다르면 True 를, 같으면 False 를 출력하는 프로그램을 작성해보자.\n"
      ],
      "metadata": {
        "id": "_hVQAcO8rawQ"
      }
    },
    {
      "cell_type": "code",
      "source": [
        "a, b = input().split()\n",
        "a, b = int(a), int(b)\n",
        "\n",
        "print(a != b)"
      ],
      "metadata": {
        "colab": {
          "base_uri": "https://localhost:8080/"
        },
        "id": "mTjBgz2zrXIO",
        "outputId": "f81dc4f0-e28e-4bee-e9a0-96d516e74726"
      },
      "execution_count": 65,
      "outputs": [
        {
          "output_type": "stream",
          "name": "stdout",
          "text": [
            "0 1\n",
            "True\n"
          ]
        }
      ]
    },
    {
      "cell_type": "markdown",
      "source": [
        "## 6052 : [기초-논리연산] 정수 입력받아 참 거짓 평가하기(설명)(py)\n",
        "\n",
        "정수가 입력되었을 때, True/False 로 평가해주는 프로그램을 작성해보자."
      ],
      "metadata": {
        "id": "udkhyi2SrjJ3"
      }
    },
    {
      "cell_type": "code",
      "source": [
        "n = int(input())\n",
        "print(bool(n))   #입력된 값이 0이면 False, 0이 아니면 True 출력"
      ],
      "metadata": {
        "colab": {
          "base_uri": "https://localhost:8080/"
        },
        "id": "Q-rRErPlrgi_",
        "outputId": "53b1304b-2c67-4a0b-d47b-b5f175cc23a3"
      },
      "execution_count": 69,
      "outputs": [
        {
          "output_type": "stream",
          "name": "stdout",
          "text": [
            "0\n",
            "False\n"
          ]
        }
      ]
    },
    {
      "cell_type": "markdown",
      "source": [
        "## 6053 : [기초-논리연산] 참 거짓 바꾸기(설명)(py)\n",
        "정수값이 입력될 때,\n",
        "그 불 값을 반대로 출력하는 프로그램을 작성해보자."
      ],
      "metadata": {
        "id": "fMHy9tpUr8cm"
      }
    },
    {
      "cell_type": "code",
      "source": [
        "a = bool(int(input()))\n",
        "print(not a)"
      ],
      "metadata": {
        "colab": {
          "base_uri": "https://localhost:8080/"
        },
        "id": "y6VKiyk_r5mn",
        "outputId": "3f15c3ee-d4bc-4db0-f392-ad297c8cb463"
      },
      "execution_count": 70,
      "outputs": [
        {
          "output_type": "stream",
          "name": "stdout",
          "text": [
            "1\n",
            "False\n"
          ]
        }
      ]
    },
    {
      "cell_type": "markdown",
      "source": [
        "## 6054 : [기초-논리연산] 둘 다 참일 경우만 참 출력하기(설명)(py)\n",
        "2개의 정수값이 입력될 때,\n",
        "그 불 값이 모두 True 일 때에만 True 를 출력하는 프로그램을 작성해보자.\n"
      ],
      "metadata": {
        "id": "voq3uCTVv5Zo"
      }
    },
    {
      "cell_type": "code",
      "source": [
        "a, b = input().split()\n",
        "print(bool(int(a)) & bool(int(b))) #and"
      ],
      "metadata": {
        "colab": {
          "base_uri": "https://localhost:8080/"
        },
        "id": "cHEnGFxfv0ss",
        "outputId": "efd06899-5ecd-42c7-9f73-1f2867f0be6a"
      },
      "execution_count": 72,
      "outputs": [
        {
          "output_type": "stream",
          "name": "stdout",
          "text": [
            "1 1\n",
            "True\n"
          ]
        }
      ]
    },
    {
      "cell_type": "markdown",
      "source": [
        "## 6055 : [기초-논리연산] 하나라도 참이면 참 출력하기(설명)(py)\n",
        "2개의 정수값이 입력될 때,\n",
        "그 불 값이 하나라도 True 일 때에만 True 를 출력하는 프로그램을 작성해보자."
      ],
      "metadata": {
        "id": "-UWlRudlwffw"
      }
    },
    {
      "cell_type": "code",
      "source": [
        "a, b = input().split()\n",
        "print(bool(int(a)) or bool(int(b))) #|"
      ],
      "metadata": {
        "colab": {
          "base_uri": "https://localhost:8080/"
        },
        "id": "PODZlTFYwJLX",
        "outputId": "b6086b56-4c52-4b11-ac57-6f3a067782bb"
      },
      "execution_count": 73,
      "outputs": [
        {
          "output_type": "stream",
          "name": "stdout",
          "text": [
            "1 1\n",
            "True\n"
          ]
        }
      ]
    },
    {
      "cell_type": "markdown",
      "source": [
        "## 6056 : [기초-논리연산] 참/거짓이 서로 다를 때에만 참 출력하기(설명)(py)\n",
        "2개의 정수값이 입력될 때,\n",
        "그 불 값(True/False) 이 서로 다를 때에만 True 를 출력하는 프로그램을 작성해보자.\n",
        "![image.png](data:image/png;base64,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)"
      ],
      "metadata": {
        "id": "bVeIDYWxw08s"
      }
    },
    {
      "cell_type": "code",
      "source": [
        "a, b = input().split()\n",
        "c, d = bool(int(a)), bool(int(b))\n",
        "print((c and (not d)) or ((not c) and d))"
      ],
      "metadata": {
        "colab": {
          "base_uri": "https://localhost:8080/"
        },
        "id": "jUmPfEGpwtLK",
        "outputId": "726139b1-db55-4e26-b9bf-6fb1a43f4e2f"
      },
      "execution_count": 75,
      "outputs": [
        {
          "output_type": "stream",
          "name": "stdout",
          "text": [
            "1 1\n",
            "False\n"
          ]
        }
      ]
    },
    {
      "cell_type": "markdown",
      "source": [
        "## 6057 : [기초-논리연산] 참/거짓이 서로 같을 때에만 참 출력하기(설명)(py)\n",
        "2개의 정수값이 입력될 때,\n",
        "그 불 값(True/False) 이 서로 같을 때에만 True 를 출력하는 프로그램을 작성해보자.\n",
        "![image.png](data:image/png;base64,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)"
      ],
      "metadata": {
        "id": "cfYz586Hx3Mg"
      }
    },
    {
      "cell_type": "code",
      "source": [
        "a, b = input().split()\n",
        "c, d = bool(int(a)), bool(int(b))\n",
        "print(((not c) and (not d)) or (c and d))"
      ],
      "metadata": {
        "colab": {
          "base_uri": "https://localhost:8080/"
        },
        "id": "UBHvwyPXxxUr",
        "outputId": "bd6a2244-612c-4d67-ab14-6e9e1af73bcf"
      },
      "execution_count": 77,
      "outputs": [
        {
          "output_type": "stream",
          "name": "stdout",
          "text": [
            "0 0\n",
            "True\n"
          ]
        }
      ]
    },
    {
      "cell_type": "markdown",
      "source": [
        "## 6058 : [기초-논리연산] 둘 다 거짓일 경우만 참 출력하기(py)\n",
        "2개의 정수값이 입력될 때,\n",
        "그 불 값(True/False) 이 모두 False 일 때에만 True 를 출력하는 프로그램을 작성해보자.\n",
        "![image.png](data:image/png;base64,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)"
      ],
      "metadata": {
        "id": "w36aHzqFyZtS"
      }
    },
    {
      "cell_type": "code",
      "source": [
        "a, b = input().split()\n",
        "c, d = bool(int(a)), bool(int(b))\n",
        "print(not(c or d))"
      ],
      "metadata": {
        "colab": {
          "base_uri": "https://localhost:8080/"
        },
        "id": "58uDFxoUyOY3",
        "outputId": "ce30800e-58e4-47c4-8817-2fcbf196a265"
      },
      "execution_count": 79,
      "outputs": [
        {
          "output_type": "stream",
          "name": "stdout",
          "text": [
            "0 0\n",
            "True\n"
          ]
        }
      ]
    },
    {
      "cell_type": "markdown",
      "source": [
        "## 6059 : [기초-비트단위논리연산] 비트단위로 NOT 하여 출력하기(설명)(py)\n",
        "입력 된 정수를 비트단위로 참/거짓을 바꾼 후 정수로 출력해보자.\n",
        "- 비트단위(bitwise)연산자 ~ 를 붙이면 된다.(~ : tilde, 틸드라고 읽는다.)\n",
        "- ** 비트단위(bitwise) 연산자는,\n",
        "~(bitwise not), &(bitwise and), |(bitwise or), ^(bitwise xor),\n",
        "<<(bitwise left shift), >>(bitwise right shift)\n",
        "가 있다."
      ],
      "metadata": {
        "id": "d2QBIonFy1eq"
      }
    },
    {
      "cell_type": "code",
      "source": [
        "a = int(input())\n",
        "print(~a)"
      ],
      "metadata": {
        "colab": {
          "base_uri": "https://localhost:8080/"
        },
        "id": "TYmj7KPByu7S",
        "outputId": "b828e8bb-9844-4bf1-a911-6ac952f26e5d"
      },
      "execution_count": 82,
      "outputs": [
        {
          "output_type": "stream",
          "name": "stdout",
          "text": [
            "2\n",
            "-3\n"
          ]
        }
      ]
    },
    {
      "cell_type": "markdown",
      "source": [
        "## 6060 : [기초-비트단위논리연산] 비트단위로 AND 하여 출력하기(설명)(py)\n",
        "입력된 정수 두 개를 비트단위로 and 연산한 후 그 결과를 정수로 출력해보자.\n",
        "- 비트단위(bitwise)연산자 &를 사용하면 된다.(and, ampersand, 앰퍼센드라고 읽는다.)"
      ],
      "metadata": {
        "id": "qv80ElnUzr_5"
      }
    },
    {
      "cell_type": "code",
      "source": [
        "a, b = input().split()\n",
        "print(int(a) & int(b))"
      ],
      "metadata": {
        "colab": {
          "base_uri": "https://localhost:8080/"
        },
        "id": "wh2zjUwUzm5c",
        "outputId": "790e2752-74e4-4323-818e-4f03ed74096e"
      },
      "execution_count": 84,
      "outputs": [
        {
          "output_type": "stream",
          "name": "stdout",
          "text": [
            "3 5\n",
            "1\n"
          ]
        }
      ]
    },
    {
      "cell_type": "markdown",
      "source": [
        "## 6061 : [기초-비트단위논리연산] 비트단위로 OR 하여 출력하기(설명)(py)\n",
        "입력된 정수 두 개를 비트단위로 or 연산한 후 그 결과를 정수로 출력해보자.\n",
        "- 비트단위(bitwise) 연산자 |(or, vertical bar, 버티컬바)를 사용하면 된다."
      ],
      "metadata": {
        "id": "lzpmWuUA0hZK"
      }
    },
    {
      "cell_type": "code",
      "source": [
        "a, b = input().split()\n",
        "print(int(a) | int(b))"
      ],
      "metadata": {
        "colab": {
          "base_uri": "https://localhost:8080/"
        },
        "id": "EhK68I1Zz6G8",
        "outputId": "a1804113-79b0-459d-f769-1384201c7990"
      },
      "execution_count": 85,
      "outputs": [
        {
          "output_type": "stream",
          "name": "stdout",
          "text": [
            "3 5\n",
            "7\n"
          ]
        }
      ]
    },
    {
      "cell_type": "markdown",
      "source": [
        "## 6062 : [기초-비트단위논리연산] 비트단위로 XOR 하여 출력하기(설명)(py)\n",
        "\n",
        "입력된 정수 두 개를 비트단위로 xor 연산한 후 그 결과를 정수로 출력해보자.\n",
        "- 비트단위(bitwise) 연산자 ^(xor, circumflex/caret, 서컴플렉스/카릿)를 사용하면 된다."
      ],
      "metadata": {
        "id": "LhkwM86Z0tOa"
      }
    },
    {
      "cell_type": "code",
      "source": [
        "a, b = input().split()\n",
        "print(int(a) ^ int(b))   # 배타적 논리합(xor, 서로 다를 때 1)"
      ],
      "metadata": {
        "colab": {
          "base_uri": "https://localhost:8080/"
        },
        "id": "oyy94Dpn0nqb",
        "outputId": "c29e14ba-3b49-4746-fe2b-3f19b87efba2"
      },
      "execution_count": 86,
      "outputs": [
        {
          "output_type": "stream",
          "name": "stdout",
          "text": [
            "3 5\n",
            "6\n"
          ]
        }
      ]
    },
    {
      "cell_type": "markdown",
      "source": [
        "## 6063 : [기초-3항연산] 정수 2개 입력받아 큰 값 출력하기(설명)(py)\n",
        "입력된 두 정수(a, b) 중 큰 값을 출력하는 프로그램을 작성해보자.\n",
        "단, 3항 연산을 사용한다.\n",
        "- 3개의 요소로 이루어지는 3항 연산은\n",
        "\"x if C else y\" 의 형태로 작성이 된다.\n",
        "  - C : True 또는 False 를 평가할 조건식(conditional expression) 또는 값\n",
        "  - x : C의 평가 결과가 True 일 때 사용할 값\n",
        "  - y : C의 평가 결과가 True 가 아닐 때 사용할 값"
      ],
      "metadata": {
        "id": "xw4Fjec71C4W"
      }
    },
    {
      "cell_type": "code",
      "source": [
        "a, b = input().split()\n",
        "a, b = int(a), int(b)\n",
        "c = (a if (a>=b) else b)\n",
        "print(int(c))"
      ],
      "metadata": {
        "colab": {
          "base_uri": "https://localhost:8080/"
        },
        "id": "dlCHw19T0z4k",
        "outputId": "8c13491b-56ac-440f-d86a-871b510a9e38"
      },
      "execution_count": 89,
      "outputs": [
        {
          "output_type": "stream",
          "name": "stdout",
          "text": [
            "123 456\n",
            "456\n"
          ]
        }
      ]
    },
    {
      "cell_type": "markdown",
      "source": [
        "## 6064 : [기초-3항연산] 정수 3개 입력받아 가장 작은 값 출력하기(설명)(py)\n",
        "입력된 세 정수 a, b, c 중 가장 작은 값을 출력하는 프로그램을 작성해보자.\n",
        "단, 3항 연산을 사용한다."
      ],
      "metadata": {
        "id": "xDVqIr-82IvY"
      }
    },
    {
      "cell_type": "code",
      "source": [
        "a, b, c = input().split()\n",
        "a, b, c = int(a), int(b), int(c)\n",
        "\n",
        "d = (a if (a<b) else b) if ((a if (a<b) else b)<c) else c\n",
        "\n",
        "print(int(d))"
      ],
      "metadata": {
        "colab": {
          "base_uri": "https://localhost:8080/"
        },
        "id": "jMH7lxzD1gKB",
        "outputId": "900667ba-9884-4e2d-9d59-05db684f00e3"
      },
      "execution_count": 91,
      "outputs": [
        {
          "output_type": "stream",
          "name": "stdout",
          "text": [
            "3 -1 5\n",
            "-1\n"
          ]
        }
      ]
    },
    {
      "cell_type": "markdown",
      "source": [
        "## 6065 : [기초-조건/선택실행구조] 정수 3개 입력받아 짝수만 출력하기(설명)(py)\n",
        "3개의 정수(a, b, c)가 입력되었을 때, 짝수만 출력해보자."
      ],
      "metadata": {
        "id": "jrxS0NDA2vfj"
      }
    },
    {
      "cell_type": "code",
      "source": [
        "a, b, c = input().split()\n",
        "a, b, c = int(a), int(b), int(c)\n",
        "\n",
        "if a % 2 == 0:\n",
        "  print(a)\n",
        "if b % 2 == 0:\n",
        "  print(b)\n",
        "if c % 2 == 0:\n",
        "  print(c)"
      ],
      "metadata": {
        "colab": {
          "base_uri": "https://localhost:8080/"
        },
        "id": "EUHr0S4T2jmX",
        "outputId": "659777bf-e202-4a20-b113-0dd7bc03ab12"
      },
      "execution_count": 92,
      "outputs": [
        {
          "output_type": "stream",
          "name": "stdout",
          "text": [
            "1 2 4\n",
            "2\n",
            "4\n"
          ]
        }
      ]
    },
    {
      "cell_type": "markdown",
      "source": [
        "## 6066 : [기초-조건/선택실행구조] 정수 3개 입력받아 짝/홀 출력하기(설명)(py)\n",
        "3개의 정수(a, b, c)가 입력되었을 때, 짝(even)/홀(odd)을 출력해보자.\n"
      ],
      "metadata": {
        "id": "0txeXh0t3KOY"
      }
    },
    {
      "cell_type": "code",
      "source": [
        "a, b, c = input().split()\n",
        "a, b, c = int(a), int(b), int(c)\n",
        "\n",
        "if a % 2 == 0:\n",
        "  print('even')\n",
        "else:\n",
        "  print('odd')"
      ],
      "metadata": {
        "id": "RY4gn98V3F26"
      },
      "execution_count": null,
      "outputs": []
    }
  ]
}