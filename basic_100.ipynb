{
  "nbformat": 4,
  "nbformat_minor": 0,
  "metadata": {
    "colab": {
      "provenance": [],
      "authorship_tag": "ABX9TyNpccI7CexqBYZFU0BMhjlK",
      "include_colab_link": true
    },
    "kernelspec": {
      "name": "python3",
      "display_name": "Python 3"
    },
    "language_info": {
      "name": "python"
    }
  },
  "cells": [
    {
      "cell_type": "markdown",
      "metadata": {
        "id": "view-in-github",
        "colab_type": "text"
      },
      "source": [
        "<a href=\"https://colab.research.google.com/github/mathstat72/Coding-Test/blob/main/basic_100.ipynb\" target=\"_parent\"><img src=\"https://colab.research.google.com/assets/colab-badge.svg\" alt=\"Open In Colab\"/></a>"
      ]
    },
    {
      "cell_type": "markdown",
      "source": [
        "# [코드업] 기초 100제 풀이"
      ],
      "metadata": {
        "id": "ymGVi0n3WNp5"
      }
    },
    {
      "cell_type": "markdown",
      "source": [
        "## 6021 : [기초-입출력] 단어 1개 입력받아 나누어 출력하기(설명)(py)\n",
        "\n",
        "알파벳과 숫자로 이루어진 단어 1개가 입력된다.\n",
        "입력받은 단어의 각 문자를 한 줄에 한 문자씩 분리해 출력한다."
      ],
      "metadata": {
        "id": "X7pgGfAPWX2j"
      }
    },
    {
      "cell_type": "code",
      "execution_count": 3,
      "metadata": {
        "colab": {
          "base_uri": "https://localhost:8080/"
        },
        "id": "SYE-pHc0V4ZV",
        "outputId": "fd401182-a33a-4c74-e897-850b8a5fa9e1"
      },
      "outputs": [
        {
          "output_type": "stream",
          "name": "stdout",
          "text": [
            "Hello\n",
            "H\n",
            "e\n",
            "l\n",
            "l\n",
            "o\n"
          ]
        }
      ],
      "source": [
        "s = input()\n",
        "\n",
        "for i in s:\n",
        "  print(i)\n",
        "\n",
        "''' \n",
        "print(s[0])\n",
        "print(s[1]) ... \n",
        "'''"
      ]
    },
    {
      "cell_type": "markdown",
      "source": [
        "## 6022 : [기초-입출력] 연월일 입력받아 나누어 출력하기(설명)(py)\n",
        "6자리의 연월일(YYMMDD)을 입력받아 나누어 출력해보자."
      ],
      "metadata": {
        "id": "JxCk9JF6ZULH"
      }
    },
    {
      "cell_type": "code",
      "source": [
        "s = input()\n",
        "print(s[0:2], s[2:4], s[4:6])  #sep=' '"
      ],
      "metadata": {
        "colab": {
          "base_uri": "https://localhost:8080/"
        },
        "id": "3hcYzyybYbec",
        "outputId": "dbf8ffda-9bfb-479b-bf94-929030f7630d"
      },
      "execution_count": 6,
      "outputs": [
        {
          "output_type": "stream",
          "name": "stdout",
          "text": [
            "200304\n",
            "20 03 04\n"
          ]
        }
      ]
    },
    {
      "cell_type": "markdown",
      "source": [
        "## 6023 : [기초-입출력] 시분초 입력받아 분만 출력하기(py)\n",
        "시:분:초 형식으로 시간이 입력될 때 분만 출력해보자.\n"
      ],
      "metadata": {
        "id": "Vcc3kr2hanDC"
      }
    },
    {
      "cell_type": "code",
      "source": [
        "y, m, d = input().split(':')\n",
        "print(m)"
      ],
      "metadata": {
        "colab": {
          "base_uri": "https://localhost:8080/"
        },
        "id": "YDFY3EX7aizk",
        "outputId": "a4408324-c70f-484e-eaed-c7403eadd3c6"
      },
      "execution_count": 9,
      "outputs": [
        {
          "output_type": "stream",
          "name": "stdout",
          "text": [
            "17:23:57\n",
            "23\n"
          ]
        }
      ]
    },
    {
      "cell_type": "markdown",
      "source": [
        "## 6024 : [기초-입출력] 단어 2개 입력받아 이어 붙이기(설명)(py)\n",
        "알파벳 문자와 숫자로 이루어진 단어 2개를 입력받아\n",
        "순서대로 붙여 출력하는 프로그램을 작성해보자."
      ],
      "metadata": {
        "id": "dNOAkNDzbCEQ"
      }
    },
    {
      "cell_type": "code",
      "source": [
        "w1, w2 = input().split(' ')\n",
        "print(w1 + w2)"
      ],
      "metadata": {
        "colab": {
          "base_uri": "https://localhost:8080/"
        },
        "id": "L7Ep7CCea7e7",
        "outputId": "75095ff2-4c92-47a5-c85a-2c6666016336"
      },
      "execution_count": 10,
      "outputs": [
        {
          "output_type": "stream",
          "name": "stdout",
          "text": [
            "hello world2\n",
            "helloworld2\n"
          ]
        }
      ]
    },
    {
      "cell_type": "markdown",
      "source": [
        "## 6025 : [기초-값변환] 정수 2개 입력받아 합 계산하기(설명)(py)\n",
        "정수 2개를 입력받아\n",
        "합을 출력하는 프로그램을 작성해보자.\n"
      ],
      "metadata": {
        "id": "qOTe4mxnbjYp"
      }
    },
    {
      "cell_type": "code",
      "source": [
        "a, b = input().split(' ')\n",
        "print(int(a) + int(b))"
      ],
      "metadata": {
        "colab": {
          "base_uri": "https://localhost:8080/"
        },
        "id": "-AQvJLRWbd5K",
        "outputId": "8ea78ff5-4eb9-474a-ff9c-bb86e91f197a"
      },
      "execution_count": 12,
      "outputs": [
        {
          "output_type": "stream",
          "name": "stdout",
          "text": [
            "123 -123\n",
            "0\n"
          ]
        }
      ]
    },
    {
      "cell_type": "markdown",
      "source": [
        "## 6026 : [기초-값변환] 실수 2개 입력받아 합 계산하기(설명)(py)\n",
        "실수 2개를 입력받아\n",
        "합을 출력하는 프로그램을 작성해보자."
      ],
      "metadata": {
        "id": "Z1OEX59kb8cb"
      }
    },
    {
      "cell_type": "code",
      "source": [
        "a = float(input())\n",
        "b = float(input())\n",
        "print(a + b)"
      ],
      "metadata": {
        "colab": {
          "base_uri": "https://localhost:8080/"
        },
        "id": "kZcNU4UPbso7",
        "outputId": "7ddfb53d-2d4f-4a43-b324-d850c55b6c44"
      },
      "execution_count": 16,
      "outputs": [
        {
          "output_type": "stream",
          "name": "stdout",
          "text": [
            ".1\n",
            ".9\n",
            "1.0\n"
          ]
        }
      ]
    },
    {
      "cell_type": "markdown",
      "source": [
        "## 6027 : [기초-출력변환] 10진 정수 입력받아 16진수로 출력하기1(설명)(py)\n",
        "10진수를 입력받아 16진수(hexadecimal)로 출력해보자."
      ],
      "metadata": {
        "id": "cD2xPPTGch_s"
      }
    },
    {
      "cell_type": "code",
      "source": [
        "s = int(input())\n",
        "print('%x'%s) \n",
        "\n",
        " #10진수 형태로 입력받고 %x로 출력하면 16진수(hexadecimal) 소문자로 출력된다.\n",
        " #(%o로 출력하면 8진수(octal) 문자열로 출력된다.)"
      ],
      "metadata": {
        "colab": {
          "base_uri": "https://localhost:8080/"
        },
        "id": "SdXH30h1cHWz",
        "outputId": "ad9251e3-d97e-42af-db3a-0db879a7dde7"
      },
      "execution_count": 17,
      "outputs": [
        {
          "output_type": "stream",
          "name": "stdout",
          "text": [
            "255\n",
            "ff\n"
          ]
        }
      ]
    },
    {
      "cell_type": "markdown",
      "source": [
        "## 6028 : [기초-출력변환] 10진 정수 입력받아 16진수로 출력하기2(설명)(py)\n",
        "10진수를 입력받아 16진수(hexadecimal)로 출력해보자."
      ],
      "metadata": {
        "id": "lyGxK0ocdV_3"
      }
    },
    {
      "cell_type": "code",
      "source": [
        "s = int(input())\n",
        "print('%X'%s) \n",
        "\n",
        "#10진수 형태로 입력받고 %X로 출력하면 16진수(hexadecimal)대문자로 출력된다"
      ],
      "metadata": {
        "colab": {
          "base_uri": "https://localhost:8080/"
        },
        "id": "t3dTVADrdBCt",
        "outputId": "11c490de-91a7-4669-d7d5-b879ce08a3dd"
      },
      "execution_count": 18,
      "outputs": [
        {
          "output_type": "stream",
          "name": "stdout",
          "text": [
            "255\n",
            "FF\n"
          ]
        }
      ]
    },
    {
      "cell_type": "markdown",
      "source": [
        "## 6029 : [기초-값변환] 16진 정수 입력받아 8진수로 출력하기(설명)(py)\n",
        "16진수를 입력받아 8진수(octal)로 출력해보자."
      ],
      "metadata": {
        "id": "iw3uKNj0drKv"
      }
    },
    {
      "cell_type": "code",
      "source": [
        "s = int(input(), 16) #16진수로 인식\n",
        "print('%o'%s)"
      ],
      "metadata": {
        "colab": {
          "base_uri": "https://localhost:8080/"
        },
        "id": "eZsVkt4Adfgy",
        "outputId": "aa43abc5-24be-4acd-9e1b-fafae2092a09"
      },
      "execution_count": 19,
      "outputs": [
        {
          "output_type": "stream",
          "name": "stdout",
          "text": [
            "f\n",
            "17\n"
          ]
        }
      ]
    },
    {
      "cell_type": "markdown",
      "source": [
        "## 6030 : [기초-값변환] 영문자 1개 입력받아 10진수로 변환하기(설명)(py)\n",
        "- 영문자 1개를 입력받아 10진수 유니코드(Unicode) 값으로 출력해보자."
      ],
      "metadata": {
        "id": "uC0ROn-veFsP"
      }
    },
    {
      "cell_type": "code",
      "source": [
        "n = ord(input())  #입력받은 문자를 10진수 유니코드 값으로 변환한 후, n에 저장한다.\n",
        "print(n)"
      ],
      "metadata": {
        "colab": {
          "base_uri": "https://localhost:8080/"
        },
        "id": "YQgzxw5od-bY",
        "outputId": "7477fdd9-e413-4a22-910a-bc1e747fae8a"
      },
      "execution_count": 20,
      "outputs": [
        {
          "output_type": "stream",
          "name": "stdout",
          "text": [
            "A\n",
            "65\n"
          ]
        }
      ]
    },
    {
      "cell_type": "markdown",
      "source": [
        "## 6031 : [기초-값변환] 정수 입력받아 유니코드 문자로 변환하기(설명)(py)\n",
        "10진 정수 1개를 입력받아 유니코드 문자로 출력해보자."
      ],
      "metadata": {
        "id": "q7qFOAv4el34"
      }
    },
    {
      "cell_type": "code",
      "source": [
        "c = int(input())\n",
        "print(chr(c))  #c에 저장되어 있는 정수 값을 유니코드 문자(chracter)로 바꿔 출력한다. \n",
        "\n",
        "#chr( )는 정수값->문자, ord( )는 문자->정수값 형태로 바꿔주는 서로 반대 방향으로 바꾸어 주는 기능을 한다."
      ],
      "metadata": {
        "colab": {
          "base_uri": "https://localhost:8080/"
        },
        "id": "gkdjz2Zqef1H",
        "outputId": "428a0180-79da-4559-80f5-b653dfaf2ee6"
      },
      "execution_count": 23,
      "outputs": [
        {
          "output_type": "stream",
          "name": "stdout",
          "text": [
            "65\n",
            "A\n"
          ]
        }
      ]
    },
    {
      "cell_type": "markdown",
      "source": [
        "## 6032 : [기초-산술연산] 정수 1개 입력받아 부호 바꾸기(설명)(py)\n",
        "입력된 정수의 부호를 바꿔 출력해보자."
      ],
      "metadata": {
        "id": "9r2f4_YqfDF5"
      }
    },
    {
      "cell_type": "code",
      "source": [
        "n = int(input())\n",
        "print(-n)"
      ],
      "metadata": {
        "colab": {
          "base_uri": "https://localhost:8080/"
        },
        "id": "B9FIM8CAevsZ",
        "outputId": "d5c386c1-bada-4818-9212-6f91f6f05c1e"
      },
      "execution_count": 24,
      "outputs": [
        {
          "output_type": "stream",
          "name": "stdout",
          "text": [
            "-1\n",
            "1\n"
          ]
        }
      ]
    },
    {
      "cell_type": "markdown",
      "source": [
        "## 6033 : [기초-산술연산] 문자 1개 입력받아 다음 문자 출력하기(설명)(py)\n",
        "\n",
        "문자 1개를 입력받아 그 다음 문자를 출력해보자.\n",
        "영문자 'A'의 다음 문자는 'B'이고, 숫자 '0'의 다음 문자는 '1'이다.\n"
      ],
      "metadata": {
        "id": "h3Rea-k6fSaR"
      }
    },
    {
      "cell_type": "code",
      "source": [
        "a = ord(input())  #유니코드 값으로 변환\n",
        "print(chr(a+1))   #유니코드 문자로 변환"
      ],
      "metadata": {
        "colab": {
          "base_uri": "https://localhost:8080/"
        },
        "id": "HobsHgg-fOUD",
        "outputId": "36c82c90-39ff-41e9-87de-11d3265cda38"
      },
      "execution_count": 30,
      "outputs": [
        {
          "output_type": "stream",
          "name": "stdout",
          "text": [
            "A\n",
            "B\n"
          ]
        }
      ]
    },
    {
      "cell_type": "markdown",
      "source": [
        "## 6034 : [기초-산술연산] 정수 2개 입력받아 차 계산하기(설명)(py)\n",
        "정수 2개(a, b)를 입력받아 a에서 b를 뺀 차를 출력하는 프로그램을 작성해보자."
      ],
      "metadata": {
        "id": "Bhv33oIHix5D"
      }
    },
    {
      "cell_type": "code",
      "source": [
        "a, b = input().split(' ')\n",
        "print(int(a) - int(b))"
      ],
      "metadata": {
        "colab": {
          "base_uri": "https://localhost:8080/"
        },
        "id": "GeKwD8yYiht1",
        "outputId": "44f53226-6c72-428c-ad3f-6a82af724055"
      },
      "execution_count": 32,
      "outputs": [
        {
          "output_type": "stream",
          "name": "stdout",
          "text": [
            "123 -123\n",
            "246\n"
          ]
        }
      ]
    },
    {
      "cell_type": "markdown",
      "source": [
        "## 6035 : [기초-산술연산] 실수 2개 입력받아 곱 계산하기(설명)(py)\n",
        "실수 2개(f1, f2)를 입력받아 곱을 출력하는 프로그램을 작성해보자."
      ],
      "metadata": {
        "id": "jZsCak7mjafi"
      }
    },
    {
      "cell_type": "code",
      "source": [
        "a, b = input().split(' ')\n",
        "print(float(a)* float(b))"
      ],
      "metadata": {
        "colab": {
          "base_uri": "https://localhost:8080/"
        },
        "id": "lMXStKQ_i-i0",
        "outputId": "ffa8b977-b729-44fe-e2a5-eade6d69e4d2"
      },
      "execution_count": 33,
      "outputs": [
        {
          "output_type": "stream",
          "name": "stdout",
          "text": [
            "0.5 2.0\n",
            "1.0\n"
          ]
        }
      ]
    },
    {
      "cell_type": "markdown",
      "source": [
        "## 6036 : [기초-산술연산] 단어 여러 번 출력하기(설명)(py)\n",
        "단어와 반복 횟수를 입력받아 여러 번 출력해보자."
      ],
      "metadata": {
        "id": "wsrL8laljpw7"
      }
    },
    {
      "cell_type": "code",
      "source": [
        "w, n = input().split(' ')\n",
        "print(w * int(n))"
      ],
      "metadata": {
        "colab": {
          "base_uri": "https://localhost:8080/"
        },
        "id": "Er9AZJ2Ojl8D",
        "outputId": "557849d1-2486-47ed-8534-8bd6c91e88d4"
      },
      "execution_count": 35,
      "outputs": [
        {
          "output_type": "stream",
          "name": "stdout",
          "text": [
            "love 3\n",
            "lovelovelove\n"
          ]
        }
      ]
    },
    {
      "cell_type": "markdown",
      "source": [
        "## 6037 : [기초-산술연산] 문장 여러 번 출력하기(설명)(py)\n",
        "반복 횟수와 문장을 입력받아 여러 번 출력해보자."
      ],
      "metadata": {
        "id": "y5YA3jlkkBZQ"
      }
    },
    {
      "cell_type": "code",
      "source": [
        "n = int(input())\n",
        "w = input()\n",
        "\n",
        "print(w * n)"
      ],
      "metadata": {
        "colab": {
          "base_uri": "https://localhost:8080/"
        },
        "id": "dhwkfQ_sj1sV",
        "outputId": "31444b62-741b-4fdf-8ade-db72cae84512"
      },
      "execution_count": 37,
      "outputs": [
        {
          "output_type": "stream",
          "name": "stdout",
          "text": [
            "3\n",
            "I love CS\n",
            "I love CSI love CSI love CS\n"
          ]
        }
      ]
    },
    {
      "cell_type": "markdown",
      "source": [
        "## 6038 : [기초-산술연산] 정수 2개 입력받아 거듭제곱 계산하기(설명)(py)\n",
        "\n",
        "정수 2개(a, b)를 입력받아\n",
        "a를 b번 곱한 거듭제곱을 출력하는 프로그램을 작성해보자.\n"
      ],
      "metadata": {
        "id": "C-2MW_jvkbW7"
      }
    },
    {
      "cell_type": "code",
      "source": [
        "a, b = input().split(' ')\n",
        "print(int(a) ** int(b))"
      ],
      "metadata": {
        "colab": {
          "base_uri": "https://localhost:8080/"
        },
        "id": "EijUjOxGkOJQ",
        "outputId": "28a288cf-4baa-44b3-86ce-2768e7ba6a3d"
      },
      "execution_count": 38,
      "outputs": [
        {
          "output_type": "stream",
          "name": "stdout",
          "text": [
            "2 10\n",
            "1024\n"
          ]
        }
      ]
    },
    {
      "cell_type": "markdown",
      "source": [
        "## 6039 : [기초-산술연산] 실수 2개 입력받아 거듭제곱 계산하기(py)\n",
        "실수 2개(f1, f2)를 입력받아\n",
        "f1을 f2번 거듭제곱한 값을 출력하는 프로그램을 작성해보자."
      ],
      "metadata": {
        "id": "VSxiyM1jktUG"
      }
    },
    {
      "cell_type": "code",
      "source": [
        "f1, f2 = input().split(' ')\n",
        "print(float(f1) ** float(f2))"
      ],
      "metadata": {
        "colab": {
          "base_uri": "https://localhost:8080/"
        },
        "id": "9NSl5OBtkpt2",
        "outputId": "a8a73d04-dc2e-4062-8bb6-5e959c8ca048"
      },
      "execution_count": 39,
      "outputs": [
        {
          "output_type": "stream",
          "name": "stdout",
          "text": [
            "4.0 2.0\n",
            "16.0\n"
          ]
        }
      ]
    },
    {
      "cell_type": "markdown",
      "source": [
        "## 6040 : [기초-산술연산] 정수 2개 입력받아 나눈 몫 계산하기(설명)(py)\n",
        "- 정수 2개(a, b) 를 입력받아 a를 b로 나눈 몫을 출력해보자."
      ],
      "metadata": {
        "id": "8MT1fBPhlD4V"
      }
    },
    {
      "cell_type": "code",
      "source": [
        "a, b = input().split(' ')\n",
        "print(int(a) // int(b))"
      ],
      "metadata": {
        "colab": {
          "base_uri": "https://localhost:8080/"
        },
        "id": "qzPmxzrzk7a7",
        "outputId": "402ff990-9665-48bd-a1f9-2ea28a141c9f"
      },
      "execution_count": 41,
      "outputs": [
        {
          "output_type": "stream",
          "name": "stdout",
          "text": [
            "10 3\n",
            "3\n"
          ]
        }
      ]
    },
    {
      "cell_type": "markdown",
      "source": [
        "## 6041 : [기초-산술연산] 정수 2개 입력받아 나눈 나머지 계산하기(설명)(py)\n",
        "정수 2개(a, b) 를 입력받아 a를 b로 나눈 나머지를 출력해보자."
      ],
      "metadata": {
        "id": "2zhOkmiYlOAk"
      }
    },
    {
      "cell_type": "code",
      "source": [
        "a, b = input().split(' ')\n",
        "print(int(a) % int(b))"
      ],
      "metadata": {
        "colab": {
          "base_uri": "https://localhost:8080/"
        },
        "id": "b3-xFWmwlKx-",
        "outputId": "0552cd74-50bd-46dc-d2e4-65ddfef0190a"
      },
      "execution_count": 44,
      "outputs": [
        {
          "output_type": "stream",
          "name": "stdout",
          "text": [
            "10 3\n",
            "1\n"
          ]
        }
      ]
    },
    {
      "cell_type": "markdown",
      "source": [
        "## 6042 : [기초-값변환] 실수 1개 입력받아 소숫점이하 자리 변환하기(설명)(py)\n",
        "실수 1개를 입력받아\n",
        "소숫점 이하 두 번째 자리까지의 정확도로 반올림한 값을 출력해보자.\n"
      ],
      "metadata": {
        "id": "gZccm62rlXN0"
      }
    },
    {
      "cell_type": "code",
      "source": [
        "a = float(input())\n",
        "print(round(a, 2))   #print(format(a, \".2f\"))"
      ],
      "metadata": {
        "colab": {
          "base_uri": "https://localhost:8080/"
        },
        "id": "QxAT1XKUlRNz",
        "outputId": "185539bb-6c0a-450b-b5fc-1b890d821d07"
      },
      "execution_count": 46,
      "outputs": [
        {
          "output_type": "stream",
          "name": "stdout",
          "text": [
            "3.141592\n",
            "3.14\n"
          ]
        }
      ]
    },
    {
      "cell_type": "markdown",
      "source": [
        "## 6043 : [기초-산술연산] 실수 2개 입력받아 나눈 결과 계산하기(py)\n",
        "\n",
        "실수 2개(f1, f2)를 입력받아\n",
        "f1 을 f2 로 나눈 값을 출력해보자. 이 때 소숫점 넷째자리에서 반올림하여 무조건 소숫점 셋째 자리까지 출력한다."
      ],
      "metadata": {
        "id": "_trbFbuLnAuy"
      }
    },
    {
      "cell_type": "code",
      "source": [
        "f1, f2 = input().split(' ')\n",
        "print(round(float(f1) / float(f2), 3))  #print(\"{0:.3f}\".format(float))"
      ],
      "metadata": {
        "colab": {
          "base_uri": "https://localhost:8080/"
        },
        "id": "cod0fId4m0X7",
        "outputId": "3ef51898-10bb-4f1a-8def-084455c59ceb"
      },
      "execution_count": 47,
      "outputs": [
        {
          "output_type": "stream",
          "name": "stdout",
          "text": [
            "10.0 3.0\n",
            "3.333\n"
          ]
        }
      ]
    },
    {
      "cell_type": "markdown",
      "source": [
        "## 6044 : [기초-산술연산] 정수 2개 입력받아 자동 계산하기(py)\n",
        "정수 2개(a, b)를 입력받아 합, 차, 곱, 몫, 나머지, 나눈 값을 자동으로 계산해보자.\n",
        "단, b는 0이 아니다."
      ],
      "metadata": {
        "id": "n-oIpEennpOT"
      }
    },
    {
      "cell_type": "code",
      "source": [
        "a, b = input().split(' ')\n",
        "a, b = int(a), int(b)\n",
        "\n",
        "print(a + b)\n",
        "print(a - b)\n",
        "print(a * b)\n",
        "print(a // b)\n",
        "print(a % b)\n",
        "print(round(a / b, 2))"
      ],
      "metadata": {
        "colab": {
          "base_uri": "https://localhost:8080/"
        },
        "id": "dRapgCkvnOkA",
        "outputId": "a904286b-47d8-4291-a577-b042d03ca678"
      },
      "execution_count": 51,
      "outputs": [
        {
          "output_type": "stream",
          "name": "stdout",
          "text": [
            "10 3\n",
            "13\n",
            "7\n",
            "30\n",
            "3\n",
            "1\n",
            "3.33\n"
          ]
        }
      ]
    },
    {
      "cell_type": "markdown",
      "source": [
        "## 6045 : [기초-산술연산] 정수 3개 입력받아 합과 평균 출력하기(설명)(py)\n",
        "\n",
        "정수 3개를 입력받아 합과 평균을 출력해보자."
      ],
      "metadata": {
        "id": "Q55JWHe0odM_"
      }
    },
    {
      "cell_type": "code",
      "source": [
        "a, b, c = input().split(' ')\n",
        "a, b, c = int(a), int(b), int(c)\n",
        "sum = a+b+c\n",
        "avg = sum/3\n",
        "print(sum, format(avg, \".2f\"))"
      ],
      "metadata": {
        "colab": {
          "base_uri": "https://localhost:8080/"
        },
        "id": "MXCLhGEeoKsa",
        "outputId": "f62cfd81-9929-4c9e-9c13-05c8a7e3f590"
      },
      "execution_count": 56,
      "outputs": [
        {
          "output_type": "stream",
          "name": "stdout",
          "text": [
            "1 2 3\n",
            "6 2.00\n"
          ]
        }
      ]
    },
    {
      "cell_type": "markdown",
      "source": [
        "## 6046 : [기초-비트시프트연산] 정수 1개 입력받아 2배 곱해 출력하기(설명)(py)\n",
        "정수 1개를 입력받아 2배 곱해 출력해보자.\n",
        "- 정수를 2배로 곱하거나 나누어 계산해 주는 비트단위시프트연산자 <<, >>를 이용할 수 있다"
      ],
      "metadata": {
        "id": "01o1O2HZpX_b"
      }
    },
    {
      "cell_type": "code",
      "source": [
        "a = int(input())\n",
        "print(a<<1)  #a를 2배 한 값 출력"
      ],
      "metadata": {
        "colab": {
          "base_uri": "https://localhost:8080/"
        },
        "id": "e_96Vz9qo50o",
        "outputId": "2377e452-2f4f-4557-a35d-e7102e179e83"
      },
      "execution_count": 57,
      "outputs": [
        {
          "output_type": "stream",
          "name": "stdout",
          "text": [
            "1024\n",
            "2048\n"
          ]
        }
      ]
    },
    {
      "cell_type": "markdown",
      "source": [
        "## 6047 : [기초-비트시프트연산] 2의 거듭제곱 배로 곱해 출력하기(설명)(py)\n",
        "정수 2개(a, b)를 입력받아 a를 2^b배 곱한 값으로 출력해보자.\n",
        "0 <= a <= 10, 0 <= b <= 10"
      ],
      "metadata": {
        "id": "wR9sRQzfp-9g"
      }
    },
    {
      "cell_type": "code",
      "source": [
        "a, b = input().split(' ')\n",
        "a, b = int(a), int(b)\n",
        "\n",
        "print(a<<b)  #a를 2^b배 곱한 값 출력"
      ],
      "metadata": {
        "colab": {
          "base_uri": "https://localhost:8080/"
        },
        "id": "0869L20qqSIk",
        "outputId": "3fd8e9b7-0b1b-4544-fb8c-46e944bb0019"
      },
      "execution_count": 60,
      "outputs": [
        {
          "output_type": "stream",
          "name": "stdout",
          "text": [
            "1 3\n",
            "8\n"
          ]
        }
      ]
    },
    {
      "cell_type": "markdown",
      "source": [
        "## 6048 : [기초-비교연산] 정수 2개 입력받아 비교하기1(설명)(py)\n",
        "두 정수(a, b)를 입력받아\n",
        "a가 b보다 작으면 True 를, a가 b보다 크거나 같으면 False 를 출력하는 프로그램을 작성해보자."
      ],
      "metadata": {
        "id": "E-2cCM23qvHz"
      }
    },
    {
      "cell_type": "code",
      "source": [
        "a, b = input().split(' ')\n",
        "a, b = int(a), int(b)\n",
        "\n",
        "print(a < b)"
      ],
      "metadata": {
        "colab": {
          "base_uri": "https://localhost:8080/"
        },
        "id": "SSEx8SBgqVIg",
        "outputId": "5a50e8e5-d8a8-4c13-bee2-abb86e353c2f"
      },
      "execution_count": 61,
      "outputs": [
        {
          "output_type": "stream",
          "name": "stdout",
          "text": [
            "1 9\n",
            "True\n"
          ]
        }
      ]
    },
    {
      "cell_type": "markdown",
      "source": [
        "## 6049 : [기초-비교연산] 정수 2개 입력받아 비교하기2(설명)(py)\n",
        "두 정수(a, b)를 입력받아\n",
        "a와 b의 값이 같으면 True 를, 같지 않으면 False 를 출력하는 프로그램을 작성해보자."
      ],
      "metadata": {
        "id": "2asAGL1ArB1X"
      }
    },
    {
      "cell_type": "code",
      "source": [
        "a, b = input().split(' ')\n",
        "a, b = int(a), int(b)\n",
        "\n",
        "print(a == b)"
      ],
      "metadata": {
        "colab": {
          "base_uri": "https://localhost:8080/"
        },
        "id": "XS-dKWbLq6eL",
        "outputId": "8aaf2f8c-2122-4dac-cdd3-9a0d8f5f2e6a"
      },
      "execution_count": 63,
      "outputs": [
        {
          "output_type": "stream",
          "name": "stdout",
          "text": [
            "0 0\n",
            "True\n"
          ]
        }
      ]
    },
    {
      "cell_type": "markdown",
      "source": [
        "## 6050 : [기초-비교연산] 정수 2개 입력받아 비교하기3(설명)(py)\n",
        "\n",
        "두 정수(a, b)를 입력받아\n",
        "b의 값이 a의 값 보다 크거나 같으면 True 를, 같지 않으면 False 를 출력하는 프로그램을 작성해보자."
      ],
      "metadata": {
        "id": "RLSI3wQGrM8N"
      }
    },
    {
      "cell_type": "code",
      "source": [
        "a, b = input().split(' ')\n",
        "a, b = int(a), int(b)\n",
        "\n",
        "print(b >= a)"
      ],
      "metadata": {
        "colab": {
          "base_uri": "https://localhost:8080/"
        },
        "id": "uyWlMO-prG0A",
        "outputId": "533827a8-75e7-4112-e9f5-c62e27689c67"
      },
      "execution_count": 64,
      "outputs": [
        {
          "output_type": "stream",
          "name": "stdout",
          "text": [
            "0 -1\n",
            "False\n"
          ]
        }
      ]
    },
    {
      "cell_type": "markdown",
      "source": [
        "## 6051 : [기초-비교연산] 정수 2개 입력받아 비교하기4(설명)(py)\n",
        "\n",
        "두 정수(a, b)를 입력받아\n",
        "a의 값이 b의 값과 서로 다르면 True 를, 같으면 False 를 출력하는 프로그램을 작성해보자.\n"
      ],
      "metadata": {
        "id": "_hVQAcO8rawQ"
      }
    },
    {
      "cell_type": "code",
      "source": [
        "a, b = input().split(' ')\n",
        "a, b = int(a), int(b)\n",
        "\n",
        "print(a != b)"
      ],
      "metadata": {
        "colab": {
          "base_uri": "https://localhost:8080/"
        },
        "id": "mTjBgz2zrXIO",
        "outputId": "f81dc4f0-e28e-4bee-e9a0-96d516e74726"
      },
      "execution_count": 65,
      "outputs": [
        {
          "output_type": "stream",
          "name": "stdout",
          "text": [
            "0 1\n",
            "True\n"
          ]
        }
      ]
    },
    {
      "cell_type": "markdown",
      "source": [
        "## 6052 : [기초-논리연산] 정수 입력받아 참 거짓 평가하기(설명)(py)\n",
        "\n",
        "정수가 입력되었을 때, True/False 로 평가해주는 프로그램을 작성해보자."
      ],
      "metadata": {
        "id": "udkhyi2SrjJ3"
      }
    },
    {
      "cell_type": "code",
      "source": [
        "n = int(input())\n",
        "print(bool(n))   #입력된 값이 0이면 False, 0이 아니면 True 출력"
      ],
      "metadata": {
        "colab": {
          "base_uri": "https://localhost:8080/"
        },
        "id": "Q-rRErPlrgi_",
        "outputId": "53b1304b-2c67-4a0b-d47b-b5f175cc23a3"
      },
      "execution_count": 69,
      "outputs": [
        {
          "output_type": "stream",
          "name": "stdout",
          "text": [
            "0\n",
            "False\n"
          ]
        }
      ]
    },
    {
      "cell_type": "markdown",
      "source": [
        "## 6053 : [기초-논리연산] 참 거짓 바꾸기(설명)(py)\n",
        "정수값이 입력될 때,\n",
        "그 불 값을 반대로 출력하는 프로그램을 작성해보자."
      ],
      "metadata": {
        "id": "fMHy9tpUr8cm"
      }
    },
    {
      "cell_type": "code",
      "source": [],
      "metadata": {
        "id": "y6VKiyk_r5mn"
      },
      "execution_count": null,
      "outputs": []
    }
  ]
}