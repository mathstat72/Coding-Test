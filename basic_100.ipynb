{
  "nbformat": 4,
  "nbformat_minor": 0,
  "metadata": {
    "colab": {
      "provenance": [],
      "authorship_tag": "ABX9TyPvCvk4A/79qe6i/1tH13I+",
      "include_colab_link": true
    },
    "kernelspec": {
      "name": "python3",
      "display_name": "Python 3"
    },
    "language_info": {
      "name": "python"
    }
  },
  "cells": [
    {
      "cell_type": "markdown",
      "metadata": {
        "id": "view-in-github",
        "colab_type": "text"
      },
      "source": [
        "<a href=\"https://colab.research.google.com/github/mathstat72/Coding-Test/blob/main/basic_100.ipynb\" target=\"_parent\"><img src=\"https://colab.research.google.com/assets/colab-badge.svg\" alt=\"Open In Colab\"/></a>"
      ]
    },
    {
      "cell_type": "markdown",
      "source": [
        "# [코드업] 기초 100제 풀이"
      ],
      "metadata": {
        "id": "ymGVi0n3WNp5"
      }
    },
    {
      "cell_type": "markdown",
      "source": [
        "## 6021 : [기초-입출력] 단어 1개 입력받아 나누어 출력하기(설명)(py)\n",
        "\n",
        "알파벳과 숫자로 이루어진 단어 1개가 입력된다.\n",
        "입력받은 단어의 각 문자를 한 줄에 한 문자씩 분리해 출력한다."
      ],
      "metadata": {
        "id": "X7pgGfAPWX2j"
      }
    },
    {
      "cell_type": "code",
      "execution_count": 3,
      "metadata": {
        "colab": {
          "base_uri": "https://localhost:8080/"
        },
        "id": "SYE-pHc0V4ZV",
        "outputId": "fd401182-a33a-4c74-e897-850b8a5fa9e1"
      },
      "outputs": [
        {
          "output_type": "stream",
          "name": "stdout",
          "text": [
            "Hello\n",
            "H\n",
            "e\n",
            "l\n",
            "l\n",
            "o\n"
          ]
        }
      ],
      "source": [
        "s = input()\n",
        "\n",
        "for i in s:\n",
        "  print(i)\n",
        "\n",
        "''' \n",
        "print(s[0])\n",
        "print(s[1]) ... \n",
        "'''"
      ]
    },
    {
      "cell_type": "code",
      "source": [],
      "metadata": {
        "id": "3hcYzyybYbec"
      },
      "execution_count": null,
      "outputs": []
    }
  ]
}